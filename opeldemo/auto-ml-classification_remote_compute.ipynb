{
  "cells": [
    {
      "metadata": {},
      "cell_type": "markdown",
      "source": "Copyright (c) Microsoft Corporation. All rights reserved.\n\nLicensed under the MIT License."
    },
    {
      "metadata": {},
      "cell_type": "markdown",
      "source": "![Impressions](https://PixelServer20190423114238.azurewebsites.net/api/impressions/MachineLearningNotebooks/how-to-use-azureml/automated-machine-learning/classification/auto-ml-classification.png)"
    },
    {
      "metadata": {},
      "cell_type": "markdown",
      "source": "# Automated Machine Learning\n_**Classification with Local Compute**_\n\n## Contents\n1. [Introduction](#Introduction)\n1. [Setup](#Setup)\n1. [Data](#Data)\n1. [Train](#Train)\n1. [Results](#Results)\n1. [Test](#Test)\n\n"
    },
    {
      "metadata": {},
      "cell_type": "markdown",
      "source": "## Introduction\n\nIn this example we use the scikit-learn's [digit dataset](http://scikit-learn.org/stable/datasets/index.html#optical-recognition-of-handwritten-digits-dataset) to showcase how you can use AutoML for a simple classification problem.\n\nMake sure you have executed the [configuration](../../../configuration.ipynb) before running this notebook.\n\nIn this notebook you will learn how to:\n1. Create an `Experiment` in an existing `Workspace`.\n2. Configure AutoML using `AutoMLConfig`.\n3. Train the model using local compute.\n4. Explore the results.\n5. Test the best fitted model."
    },
    {
      "metadata": {},
      "cell_type": "markdown",
      "source": "## Setup\n\nAs part of the setup you have already created an Azure ML `Workspace` object. For AutoML you will need to create an `Experiment` object, which is a named object in a `Workspace` used to run experiments."
    },
    {
      "metadata": {
        "trusted": true
      },
      "cell_type": "code",
      "source": "import logging\n\nfrom matplotlib import pyplot as plt\nimport numpy as np\nimport pandas as pd\nfrom sklearn import datasets\n\nimport azureml.core\nfrom azureml.core.experiment import Experiment\nfrom azureml.core.workspace import Workspace\nfrom azureml.train.automl import AutoMLConfig",
      "execution_count": 84,
      "outputs": []
    },
    {
      "metadata": {},
      "cell_type": "markdown",
      "source": "Accessing the Azure ML workspace requires authentication with Azure.\n\nThe default authentication is interactive authentication using the default tenant.  Executing the `ws = Workspace.from_config()` line in the cell below will prompt for authentication the first time that it is run.\n\nIf you have multiple Azure tenants, you can specify the tenant by replacing the `ws = Workspace.from_config()` line in the cell below with the following:\n\n```\nfrom azureml.core.authentication import InteractiveLoginAuthentication\nauth = InteractiveLoginAuthentication(tenant_id = 'mytenantid')\nws = Workspace.from_config(auth = auth)\n```\n\nIf you need to run in an environment where interactive login is not possible, you can use Service Principal authentication by replacing the `ws = Workspace.from_config()` line in the cell below with the following:\n\n```\nfrom azureml.core.authentication import ServicePrincipalAuthentication\nauth = auth = ServicePrincipalAuthentication('mytenantid', 'myappid', 'mypassword')\nws = Workspace.from_config(auth = auth)\n```\nFor more details, see [aka.ms/aml-notebook-auth](http://aka.ms/aml-notebook-auth)"
    },
    {
      "metadata": {
        "trusted": true
      },
      "cell_type": "code",
      "source": "ws = Workspace.from_config()\n\n# Choose a name for the experiment and specify the project folder.\nexperiment_name = 'automl-classification'\nproject_folder = './sample_projects/automl-classification'\n\nexperiment = Experiment(ws, experiment_name)\n\noutput = {}\noutput['SDK version'] = azureml.core.VERSION\noutput['Subscription ID'] = ws.subscription_id\noutput['Workspace Name'] = ws.name\noutput['Resource Group'] = ws.resource_group\noutput['Location'] = ws.location\noutput['Project Directory'] = project_folder\noutput['Experiment Name'] = experiment.name\npd.set_option('display.max_colwidth', -1)\noutputDf = pd.DataFrame(data = output, index = [''])\noutputDf.T",
      "execution_count": 85,
      "outputs": [
        {
          "output_type": "execute_result",
          "execution_count": 85,
          "data": {
            "text/html": "<div>\n<style scoped>\n    .dataframe tbody tr th:only-of-type {\n        vertical-align: middle;\n    }\n\n    .dataframe tbody tr th {\n        vertical-align: top;\n    }\n\n    .dataframe thead th {\n        text-align: right;\n    }\n</style>\n<table border=\"1\" class=\"dataframe\">\n  <thead>\n    <tr style=\"text-align: right;\">\n      <th></th>\n      <th></th>\n    </tr>\n  </thead>\n  <tbody>\n    <tr>\n      <th>SDK version</th>\n      <td>1.0.57</td>\n    </tr>\n    <tr>\n      <th>Subscription ID</th>\n      <td>4a99ad0b-5a1c-46f4-bea8-e81845b5a94e</td>\n    </tr>\n    <tr>\n      <th>Workspace Name</th>\n      <td>bszmldemo</td>\n    </tr>\n    <tr>\n      <th>Resource Group</th>\n      <td>bszmlworkshop</td>\n    </tr>\n    <tr>\n      <th>Location</th>\n      <td>northeurope</td>\n    </tr>\n    <tr>\n      <th>Project Directory</th>\n      <td>./sample_projects/automl-classification</td>\n    </tr>\n    <tr>\n      <th>Experiment Name</th>\n      <td>automl-classification</td>\n    </tr>\n  </tbody>\n</table>\n</div>",
            "text/plain": "                                                          \nSDK version        1.0.57                                 \nSubscription ID    4a99ad0b-5a1c-46f4-bea8-e81845b5a94e   \nWorkspace Name     bszmldemo                              \nResource Group     bszmlworkshop                          \nLocation           northeurope                            \nProject Directory  ./sample_projects/automl-classification\nExperiment Name    automl-classification                  "
          },
          "metadata": {}
        }
      ]
    },
    {
      "metadata": {},
      "cell_type": "markdown",
      "source": "## Data\n\nThis uses scikit-learn's [load_digits](http://scikit-learn.org/stable/modules/generated/sklearn.datasets.load_digits.html) method."
    },
    {
      "metadata": {
        "trusted": true
      },
      "cell_type": "code",
      "source": "digits = datasets.load_digits()\n\n# Exclude the first 100 rows from training so that they can be used for test.\nX_train = digits.data[100:,:]\ny_train = digits.target[100:]",
      "execution_count": 37,
      "outputs": []
    },
    {
      "metadata": {
        "trusted": true
      },
      "cell_type": "code",
      "source": "#connect to your storage account\nimport os, uuid, sys\nfrom azure.storage.blob import BlockBlobService, PublicAccess\n# Create a project_folder if it doesn't exist\nif not os.path.isdir('data'):\n    os.mkdir('data')\n    \nif not os.path.exists(project_folder):\n    os.makedirs(project_folder)\n\nfrom sklearn import datasets\nfrom azureml.core.dataset import Dataset\nfrom scipy import sparse\nimport numpy as np\nimport pandas as pd\n\ndata_train = datasets.load_digits()\n\npd.DataFrame(data_train.data[100:,:]).to_csv(\"data/X_train.csv\", index=False)\npd.DataFrame(data_train.target[100:]).to_csv(\"data/y_train.csv\", index=False)\n\nds = ws.get_default_datastore()\nds.upload(src_dir='./data', target_path='digitsdata', overwrite=True, show_progress=True)\n\nX = Dataset.Tabular.from_delimited_files(path=ds.path('digitsdata/X_train.csv'))\ny = Dataset.Tabular.from_delimited_files(path=ds.path('digitsdata/y_train.csv'))",
      "execution_count": 38,
      "outputs": [
        {
          "output_type": "stream",
          "text": "Uploading an estimated of 2 files\nUploading ./data/X_train.csv\nUploading ./data/y_train.csv\nUploaded ./data/y_train.csv, 1 files out of an estimated total of 2\nUploaded ./data/X_train.csv, 2 files out of an estimated total of 2\nUploaded 2 files\n",
          "name": "stdout"
        }
      ]
    },
    {
      "metadata": {
        "trusted": true
      },
      "cell_type": "code",
      "source": "type(data_train.data)\n\n#plt.imshow(data_train.images[100], cmap = plt.cm.gray_r, interpolation = 'nearest')\n#plt.show()",
      "execution_count": 83,
      "outputs": [
        {
          "output_type": "execute_result",
          "execution_count": 83,
          "data": {
            "text/plain": "numpy.ndarray"
          },
          "metadata": {}
        }
      ]
    },
    {
      "metadata": {
        "trusted": true
      },
      "cell_type": "code",
      "source": "print(X)\nprint(os.name)\nfor name in os.listdir(os.getcwd()):\n    print(name)\n",
      "execution_count": 39,
      "outputs": [
        {
          "output_type": "stream",
          "text": "TabularDataset\n{\n  \"source\": {\n    \"datastores\": [\n      {\n        \"subscription\": \"4a99ad0b-5a1c-46f4-bea8-e81845b5a94e\",\n        \"resourceGroup\": \"bszmlworkshop\",\n        \"workspaceName\": \"bszmldemo\",\n        \"datastoreName\": \"workspaceblobstore\",\n        \"path\": \"digitsdata/X_train.csv\"\n      }\n    ]\n  },\n  \"definition\": [\n    \"GetDatastoreFiles\",\n    \"ParseDelimited\",\n    \"DropColumns\",\n    \"SetColumnTypes\"\n  ],\n  \"registration\": null\n}\nposix\nautoml_errors.log\nauto-ml-classification.yml\nautoml.log\nmodel_32.pkl\nsample_projects\nmodel_24.pkl\nautoml.log.2\ndata\nmodel_14.pkl\nmodel_18.pkl\nauto-ml-classification.ipynb\nmodel_36.pkl\n.azureml\nautoml.log.1\nautoml.log.3\nmodel_16.pkl\n.config\n",
          "name": "stdout"
        }
      ]
    },
    {
      "metadata": {
        "trusted": true
      },
      "cell_type": "code",
      "source": "## create compute cluster\nfrom azureml.core.compute import AmlCompute\nfrom azureml.core.compute import ComputeTarget\n\namlcompute_cluster_name = \"automlcl\"  # Name your cluster\nprovisioning_config = AmlCompute.provisioning_configuration(vm_size=\"STANDARD_D2_V2\",\n                                                            # for GPU, use \"STANDARD_NC6\"\n                                                            # vm_priority = 'lowpriority', # optional\n                                                            max_nodes=6)\ncompute_target = ComputeTarget.create(\n    ws, amlcompute_cluster_name, provisioning_config)\n\n# Can poll for a minimum number of nodes and for a specific timeout.\n# If no min_node_count is provided, it will use the scale settings for the cluster.\ncompute_target.wait_for_completion(\n    show_output=True, min_node_count=None, timeout_in_minutes=20)",
      "execution_count": 40,
      "outputs": [
        {
          "output_type": "stream",
          "text": "Succeeded\nAmlCompute wait for completion finished\nMinimum number of nodes requested have been provisioned\n",
          "name": "stdout"
        }
      ]
    },
    {
      "metadata": {
        "trusted": true
      },
      "cell_type": "code",
      "source": "#prepare the runtime\nfrom azureml.core.runconfig import RunConfiguration\nfrom azureml.core.conda_dependencies import CondaDependencies\n\nrun_config = RunConfiguration(framework=\"python\")\nrun_config.target = compute_target\nrun_config.environment.docker.enabled = True\nrun_config.environment.docker.base_image = azureml.core.runconfig.DEFAULT_CPU_IMAGE\n\ndependencies = CondaDependencies.create(\n    pip_packages=[\"scikit-learn\", \"scipy\", \"numpy\"])\nrun_config.environment.python.conda_dependencies = dependencies",
      "execution_count": 41,
      "outputs": []
    },
    {
      "metadata": {},
      "cell_type": "markdown",
      "source": "NOT xplainabe\nautoml_config = AutoMLConfig(task='classification',\n                             debug_log='automl_errors.log',\n                             path=project_folder,\n                             compute_target=compute_target,\n                             run_configuration=run_config,\n                             X = X,  ##use the remote uploaded data\n                             y = y,\n                             **automl_settings,\n                             )\n                             \n                             #explainability\nautoml_config = AutoMLConfig(task='classification',\n                             debug_log='automl_errors.log',\n                             path=project_folder,\n                             compute_target=compute_target,\n                             run_configuration=run_config,\n                             X = X,\n                             y = y,\n                             **automl_settings,\n                             model_explainability=True,\n                             X_valid=X_test\n                             )"
    },
    {
      "metadata": {
        "trusted": true
      },
      "cell_type": "code",
      "source": "#configure the xperiment to run on remote cluster\nfrom azureml.train.automl import AutoMLConfig\nimport time\nimport logging\n\nautoml_settings = {\n    \"name\": \"AutoML_Demo_Experiment_{0}\".format(time.time()),\n    \"iteration_timeout_minutes\": 10,\n    \"iterations\": 20,\n    \"n_cross_validations\": 5,\n    \"primary_metric\": 'AUC_weighted',\n    \"preprocess\": False,\n    \"max_concurrent_iterations\": 10,\n    \"verbosity\": logging.INFO\n}\n\nautoml_config = AutoMLConfig(task='classification',\n                             debug_log='automl_errors.log',\n                             path=project_folder,\n                             compute_target=compute_target,\n                             run_configuration=run_config,\n                             X = X,  ##use the remote uploaded data\n                             y = y,\n                             **automl_settings,\n                             )\n\n",
      "execution_count": 42,
      "outputs": []
    },
    {
      "metadata": {},
      "cell_type": "markdown",
      "source": "## Train\n\nInstantiate an `AutoMLConfig` object to specify the settings and data used to run the experiment.\n\n|Property|Description|\n|-|-|\n|**task**|classification or regression|\n|**primary_metric**|This is the metric that you want to optimize. Classification supports the following primary metrics: <br><i>accuracy</i><br><i>AUC_weighted</i><br><i>average_precision_score_weighted</i><br><i>norm_macro_recall</i><br><i>precision_score_weighted</i>|\n|**X**|(sparse) array-like, shape = [n_samples, n_features]|\n|**y**|(sparse) array-like, shape = [n_samples, ], Multi-class targets.|\n|**n_cross_validations**|Number of cross validation splits.|\n|\n\nAutomated machine learning trains multiple machine learning pipelines.  Each pipelines training is known as an iteration.\n* You can specify a maximum number of iterations using the `iterations` parameter.\n* You can specify a maximum time for the run using the `experiment_timeout_minutes` parameter.\n* If you specify neither the `iterations` nor the `experiment_timeout_minutes`, automated ML keeps running iterations while it continues to see improvements in the scores.\n\nThe following example doesn't specify `iterations` or `experiment_timeout_minutes` and so runs until the scores stop improving.\n"
    },
    {
      "metadata": {
        "trusted": true
      },
      "cell_type": "code",
      "source": "## run remote train\nfrom azureml.core.experiment import Experiment\nexperiment = Experiment(ws, 'automl_remote')\nremote_run = experiment.submit(automl_config, show_output=True)",
      "execution_count": 43,
      "outputs": [
        {
          "output_type": "stream",
          "text": "Running on remote compute: automlcl\nParent Run ID: AutoML_f102a04e-f447-4078-8dee-faa34b86422a\nCurrent status: ModelSelection. Beginning model selection.\n\n****************************************************************************************************\nITERATION: The iteration being evaluated.\nPIPELINE: A summary description of the pipeline being evaluated.\nDURATION: Time taken for the current iteration.\nMETRIC: The result of computing score on the fitted pipeline.\nBEST: The best observed score thus far.\n****************************************************************************************************\n\n ITERATION   PIPELINE                                       DURATION      METRIC      BEST\n         1   StandardScalerWrapper SGD                      0:00:58       0.9974    0.9974\n         8   StandardScalerWrapper SGD                      0:00:58       0.9838    0.9974\n         3   StandardScalerWrapper SGD                      0:00:59       0.9893    0.9974\n         2   MinMaxScaler LightGBM                          0:01:08       0.9979    0.9979\n         9   MinMaxScaler SGD                               0:01:53       0.9961    0.9979\n         7   MinMaxScaler RandomForest                      0:01:52       0.9842    0.9979\n         5   StandardScalerWrapper LightGBM                 0:01:49       0.9979    0.9979\n         0   StandardScalerWrapper SGD                      0:01:49       0.9945    0.9979\n         6   StandardScalerWrapper SGD                      0:01:59       0.9971    0.9979\n         4   StandardScalerWrapper ExtremeRandomTrees       0:02:11       0.9964    0.9979\n        13   MinMaxScaler ExtremeRandomTrees                0:01:30       0.9703    0.9979\n        11   MaxAbsScaler LightGBM                          0:01:40       0.9901    0.9979\n        10   MinMaxScaler RandomForest                      0:01:38       0.9831    0.9979\n        15   StandardScalerWrapper BernoulliNaiveBayes      0:01:04       0.9840    0.9979\n        14   MinMaxScaler LightGBM                          0:00:57       0.9917    0.9979\n        12   MinMaxScaler LightGBM                          0:01:37       0.9988    0.9988\n        17   MinMaxScaler LightGBM                          0:01:30       0.9975    0.9988\n        18    VotingEnsemble                                0:01:34       0.9990    0.9990\n        16   StandardScalerWrapper LightGBM                 0:01:36       0.9993    0.9993\n        19    StackEnsemble                                 0:01:59       0.9830    0.9993\n",
          "name": "stdout"
        }
      ]
    },
    {
      "metadata": {
        "trusted": true
      },
      "cell_type": "code",
      "source": "# configure  experimetn to run on LOCALE  cluster\nautoml_config = AutoMLConfig(task = 'classification',\n                             primary_metric = 'AUC_weighted',\n                             X = X_train, \n                             y = y_train,\n                             n_cross_validations = 3)",
      "execution_count": 4,
      "outputs": []
    },
    {
      "metadata": {},
      "cell_type": "markdown",
      "source": "Call the `submit` method on the experiment object and pass the run configuration. Execution of local runs is synchronous. Depending on the data and the number of iterations this can run for a while.\nIn this example, we specify `show_output = True` to print currently running iterations to the console."
    },
    {
      "metadata": {
        "trusted": true
      },
      "cell_type": "code",
      "source": "local_run = experiment.submit(automl_config, show_output = True)",
      "execution_count": 5,
      "outputs": [
        {
          "output_type": "stream",
          "text": "Running on local machine\nParent Run ID: AutoML_93b2d238-ddef-4689-b8b2-d278c072bc5f\nCurrent status: DatasetCrossValidationSplit. Generating CV splits.\nCurrent status: ModelSelection. Beginning model selection.\n\n****************************************************************************************************\nITERATION: The iteration being evaluated.\nPIPELINE: A summary description of the pipeline being evaluated.\nDURATION: Time taken for the current iteration.\nMETRIC: The result of computing score on the fitted pipeline.\nBEST: The best observed score thus far.\n****************************************************************************************************\n\n ITERATION   PIPELINE                                       DURATION      METRIC      BEST\n         0   StandardScalerWrapper SGD                      0:01:16       0.9941    0.9941\n         1   StandardScalerWrapper SGD                      0:00:58       0.9968    0.9968\n         2   MinMaxScaler LightGBM                          0:00:51       0.9976    0.9976\n         3   StandardScalerWrapper SGD                      0:00:46       0.9892    0.9976\n         4   StandardScalerWrapper ExtremeRandomTrees       0:01:53       0.9964    0.9976\n         5   StandardScalerWrapper LightGBM                 0:00:47       0.9976    0.9976\n         6   StandardScalerWrapper SGD                      0:00:49       0.9966    0.9976\n         7   MinMaxScaler RandomForest                      0:00:49       0.9848    0.9976\n         8   StandardScalerWrapper SGD                      0:00:52       0.9838    0.9976\n         9   MinMaxScaler SGD                               0:00:51       0.9960    0.9976\n        10   MinMaxScaler RandomForest                      0:00:49       0.9814    0.9976\n        11   MaxAbsScaler LightGBM                          0:00:46       0.9896    0.9976\n        12   MinMaxScaler LightGBM                          0:00:51       0.9982    0.9982\n        13   MinMaxScaler ExtremeRandomTrees                0:01:01       0.9681    0.9982\n        14   MinMaxScaler LightGBM                          0:00:44       0.9895    0.9982\n        15   StandardScalerWrapper BernoulliNaiveBayes      0:00:44       0.9840    0.9982\n        16   StandardScalerWrapper LogisticRegression       0:01:03       0.9960    0.9982\n        17   RobustScaler LightGBM                          0:00:58       0.9978    0.9982\n        18   MaxAbsScaler LightGBM                          0:02:09       0.9980    0.9982\n        19   RobustScaler LightGBM                          0:03:45       0.9986    0.9986\n        20   RobustScaler LightGBM                          0:01:04       0.9941    0.9986\n        21   MaxAbsScaler LightGBM                          0:01:11       0.9982    0.9986\n        22   ",
          "name": "stdout"
        },
        {
          "output_type": "stream",
          "text": "WARNING - Retrying (Retry(total=2, connect=None, read=None, redirect=None, status=None)) after connection broken by 'ProxyError('Cannot connect to proxy.', OSError(\"(104, 'ECONNRESET')\",))': /azureml/ExperimentRun/dcid.AutoML_93b2d238-ddef-4689-b8b2-d278c072bc5f_22/outputs/internal_cross_validated_models.pkl?sv=2018-11-09&sr=b&sig=dHKfE31BX13Eli3lkeiYU0L2RZHpOz7xU9xh%2BX%2Fcr%2Bs%3D&st=2019-09-02T12%3A26%3A16Z&se=2019-09-03T12%3A36%3A16Z&sp=rcw&comp=block&blockid=TURBd01EQXdNREF3TURBd01EQXdNREF3TURBd01EQXdNREF3TURBd01EQSUzRA%3D%3D&timeout=1\n",
          "name": "stderr"
        },
        {
          "output_type": "stream",
          "text": "RobustScaler GradientBoosting                  0:06:20       0.9991    0.9991\n        23   RobustScaler LightGBM                          0:01:03       0.9983    0.9991\n        24   RobustScaler LightGBM                          0:04:05       0.9988    0.9991\n        25   SparseNormalizer GradientBoosting              0:02:47       0.5000    0.9991\n        26   RobustScaler LogisticRegression                0:01:27       0.9965    0.9991\n        27   ",
          "name": "stdout"
        },
        {
          "output_type": "stream",
          "text": "WARNING - Retrying (Retry(total=2, connect=None, read=None, redirect=None, status=None)) after connection broken by 'ProxyError('Cannot connect to proxy.', OSError(\"(104, 'ECONNRESET')\",))': /azureml/ExperimentRun/dcid.AutoML_93b2d238-ddef-4689-b8b2-d278c072bc5f_27/outputs/internal_cross_validated_models.pkl?sv=2018-11-09&sr=b&sig=5kXEbP12jRoZl1tJfxKiJ%2BIvHhl%2FH0n1Env%2F%2FyJ1uOY%3D&st=2019-09-02T12%3A38%3A15Z&se=2019-09-03T12%3A48%3A15Z&sp=rcw&comp=block&blockid=TURBd01EQXdNREF3TURBd01EQXdNREF3TURBd01EQXdNREF3TURBd01EQSUzRA%3D%3D&timeout=1\n",
          "name": "stderr"
        },
        {
          "output_type": "stream",
          "text": "StandardScalerWrapper LightGBM                 0:02:31       0.9990    0.9991\n        28   SparseNormalizer GradientBoosting              0:01:25       0.9971    0.9991\n        29   RobustScaler SVM                               0:01:00       0.9994    0.9994\n        30   MinMaxScaler SVM                               0:01:10       0.9985    0.9994\n        31   StandardScalerWrapper LogisticRegression       0:01:23       0.9988    0.9994\n        32   StandardScalerWrapper LogisticRegression       0:01:11       0.9987    0.9994\n        33   StandardScalerWrapper LogisticRegression       0:01:21       0.9961    0.9994\n        34   ",
          "name": "stdout"
        },
        {
          "output_type": "stream",
          "text": "WARNING - Retrying (Retry(total=2, connect=None, read=None, redirect=None, status=None)) after connection broken by 'ProxyError('Cannot connect to proxy.', OSError(\"(104, 'ECONNRESET')\",))': /azureml/ExperimentRun/dcid.AutoML_93b2d238-ddef-4689-b8b2-d278c072bc5f_34/outputs/internal_cross_validated_models.pkl?sv=2018-11-09&sr=b&sig=pUg8fKoGlklwsmxioCSWhIpIguv8PSoLBQoOT66DQIo%3D&st=2019-09-02T12%3A53%3A05Z&se=2019-09-03T13%3A03%3A05Z&sp=rcw&comp=block&blockid=TURBd01EQXdNREF3TURBd01EQXdNREF3TURBd01EQXdNREF3TURBd01EQSUzRA%3D%3D&timeout=1\n",
          "name": "stderr"
        },
        {
          "output_type": "stream",
          "text": "StandardScalerWrapper GradientBoosting         0:07:18       0.9992    0.9994\n        35   StandardScalerWrapper SVM                      0:01:00       0.9995    0.9995\n        36   StandardScalerWrapper LogisticRegression       0:01:02       0.9986    0.9995\n        37   RobustScaler LightGBM                          0:01:09       0.9990    0.9995\n        38   StandardScalerWrapper LightGBM                 0:03:05       0.9985    0.9995\n        39   MinMaxScaler LogisticRegression                0:01:03       0.9988    0.9995\n        40   SparseNormalizer SVM                           0:01:06       0.9976    0.9995\n        41   StandardScalerWrapper LightGBM                 0:00:57       0.9978    0.9995\n        42   StandardScalerWrapper LogisticRegression       0:01:03       0.9956    0.9995\n        43   StandardScalerWrapper LightGBM                 0:01:03       0.9980    0.9995\n        44   StandardScalerWrapper LogisticRegression       0:01:36       0.9960    0.9995\n        45   PCA SVM                                        0:01:12       0.0128    0.9995\n        46   MinMaxScaler SVM                               0:00:56       0.9998    0.9998\n        47   StandardScalerWrapper KNN                      0:00:58       0.9987    0.9998\n        48   MinMaxScaler LightGBM                          0:01:09       0.9992    0.9998\n        49   StandardScalerWrapper LogisticRegression       0:01:06       0.9962    0.9998\n        50   MinMaxScaler SVM                               0:00:53       0.9996    0.9998\n        51   RobustScaler KNN                               0:00:52       0.9982    0.9998\n        52   RobustScaler LogisticRegression                0:01:20       0.9974    0.9998\n        53   MaxAbsScaler SVM                               0:01:02       0.9997    0.9998\n        54   TruncatedSVDWrapper LogisticRegression         0:01:00       0.9985    0.9998\n        55   RobustScaler SVM                               0:00:57       0.9998    0.9998\n        56   StandardScalerWrapper KNN                      0:00:52       0.9993    0.9998\n        57   SparseNormalizer LogisticRegression            0:01:04       0.9987    0.9998\n        58   MaxAbsScaler LogisticRegression                0:00:58       0.9988    0.9998\n        59   RobustScaler KNN                               0:00:49       0.9993    0.9998\n        60   PCA SVM                                        0:00:51       0.9984    0.9998\n        61   MinMaxScaler SVM                               0:01:00       0.9996    0.9998\n        62   StandardScalerWrapper LogisticRegression       0:01:15       0.9988    0.9998\n        63   RobustScaler ExtremeRandomTrees                0:00:54       0.9927    0.9998\n        64   StandardScalerWrapper SVM                      0:00:53       0.9996    0.9998\n        65   StandardScalerWrapper SVM                      0:00:55       0.9995    0.9998\n        66   StandardScalerWrapper LinearSVM                0:01:00       0.9961    0.9998\n        67   MinMaxScaler SVM                               0:00:55       0.9994    0.9998\n        68   MaxAbsScaler LogisticRegression                0:00:55       0.9990    0.9998\n        69   MinMaxScaler LogisticRegression                0:01:00       0.9963    0.9998\n        70   StandardScalerWrapper SVM                      0:00:56       0.9995    0.9998\n        71   StandardScalerWrapper KNN                      0:00:52       0.9986    0.9998\n        72   MaxAbsScaler LogisticRegression                0:01:03       0.9988    0.9998\n        73   StandardScalerWrapper LogisticRegression       0:01:10       0.9989    0.9998\n        74   StandardScalerWrapper LogisticRegression       0:00:54       0.9985    0.9998\n        75   MinMaxScaler SVM                               0:00:54       0.9998    0.9998\n        76   VotingEnsemble                                 0:05:36       0.9999    0.9999\n        77   StackEnsemble                                  0:06:37       0.9944    0.9999\nStopping criteria reached at iteration 77. Ending experiment.",
          "name": "stdout"
        }
      ]
    },
    {
      "metadata": {
        "trusted": true
      },
      "cell_type": "code",
      "source": "local_run",
      "execution_count": 6,
      "outputs": [
        {
          "output_type": "execute_result",
          "execution_count": 6,
          "data": {
            "text/html": "<table style=\"width:100%\"><tr><th>Experiment</th><th>Id</th><th>Type</th><th>Status</th><th>Details Page</th><th>Docs Page</th></tr><tr><td>automl-classification</td><td>AutoML_93b2d238-ddef-4689-b8b2-d278c072bc5f</td><td>automl</td><td>Completed</td><td><a href=\"https://mlworkspace.azure.ai/portal/subscriptions/4a99ad0b-5a1c-46f4-bea8-e81845b5a94e/resourceGroups/bszmlworkshop/providers/Microsoft.MachineLearningServices/workspaces/bszmldemo/experiments/automl-classification/runs/AutoML_93b2d238-ddef-4689-b8b2-d278c072bc5f\" target=\"_blank\" rel=\"noopener\">Link to Azure Portal</a></td><td><a href=\"https://docs.microsoft.com/en-us/python/api/overview/azure/ml/intro?view=azure-ml-py\" target=\"_blank\" rel=\"noopener\">Link to Documentation</a></td></tr></table>",
            "text/plain": "Run(Experiment: automl-classification,\nId: AutoML_93b2d238-ddef-4689-b8b2-d278c072bc5f,\nType: automl,\nStatus: Completed)"
          },
          "metadata": {}
        }
      ]
    },
    {
      "metadata": {},
      "cell_type": "markdown",
      "source": "Optionally, you can continue an interrupted local run by calling `continue_experiment` without the `iterations` parameter, or run more iterations for a completed run by specifying the `iterations` parameter:"
    },
    {
      "metadata": {
        "trusted": false
      },
      "cell_type": "code",
      "source": "local_run = local_run.continue_experiment(X = X_train, \n                                          y = y_train, \n                                          show_output = True,\n                                          iterations = 5)",
      "execution_count": null,
      "outputs": []
    },
    {
      "metadata": {},
      "cell_type": "markdown",
      "source": "## Results"
    },
    {
      "metadata": {},
      "cell_type": "markdown",
      "source": "#### Widget for Monitoring Runs\n\nThe widget will first report a \"loading\" status while running the first iteration. After completing the first iteration, an auto-updating graph and table will be shown. The widget will refresh once per minute, so you should see the graph update as child runs complete.\n\n**Note:** The widget displays a link at the bottom. Use this link to open a web interface to explore the individual run details."
    },
    {
      "metadata": {
        "tags": [
          "widget-rundetails-sample"
        ],
        "trusted": true
      },
      "cell_type": "code",
      "source": "from azureml.widgets import RunDetails\nRunDetails(remote_run).show() ",
      "execution_count": 44,
      "outputs": [
        {
          "output_type": "display_data",
          "data": {
            "application/vnd.jupyter.widget-view+json": {
              "model_id": "629bf0fa563d46d396278326410a4c88",
              "version_minor": 0,
              "version_major": 2
            },
            "text/plain": "_AutoMLWidget(widget_settings={'childWidgetDisplay': 'popup', 'send_telemetry': False, 'log_level': 'INFO', 's…"
          },
          "metadata": {}
        },
        {
          "output_type": "display_data",
          "data": {
            "application/vnd.jupyter.widget-view+json": {
              "model_id": "9173c1dcc1b043fabbc8ff499fa298f4",
              "version_minor": 0,
              "version_major": 2
            },
            "text/plain": "_UserRunWidget(widget_settings={'childWidgetDisplay': 'popup', 'send_telemetry': False, 'log_level': 'INFO', '…"
          },
          "metadata": {}
        },
        {
          "output_type": "display_data",
          "data": {
            "application/vnd.jupyter.widget-view+json": {
              "model_id": "ad659daa382b4efa9e45d69d6a7cb0cf",
              "version_minor": 0,
              "version_major": 2
            },
            "text/plain": "_UserRunWidget(widget_settings={'childWidgetDisplay': 'popup', 'send_telemetry': False, 'log_level': 'INFO', '…"
          },
          "metadata": {}
        },
        {
          "output_type": "display_data",
          "data": {
            "application/vnd.jupyter.widget-view+json": {
              "model_id": "57a5a9965f1a4b28b1c7820f47270bbd",
              "version_minor": 0,
              "version_major": 2
            },
            "text/plain": "_UserRunWidget(widget_settings={'childWidgetDisplay': 'popup', 'send_telemetry': False, 'log_level': 'INFO', '…"
          },
          "metadata": {}
        }
      ]
    },
    {
      "metadata": {},
      "cell_type": "markdown",
      "source": "\n#### Retrieve All Child Runs\nYou can also use SDK methods to fetch all the child runs and see individual metrics that we log."
    },
    {
      "metadata": {
        "trusted": true
      },
      "cell_type": "code",
      "source": "type(remote_run)",
      "execution_count": 47,
      "outputs": [
        {
          "output_type": "execute_result",
          "execution_count": 47,
          "data": {
            "text/plain": "azureml.train.automl.run.AutoMLRun"
          },
          "metadata": {}
        }
      ]
    },
    {
      "metadata": {
        "trusted": true
      },
      "cell_type": "code",
      "source": "children = list(remote_run.get_children())  ## or local_run\nmetricslist = {}\nfor run in children:\n    properties = run.get_properties()\n    metrics = {k: v for k, v in run.get_metrics().items() if isinstance(v, float)}\n    metricslist[int(properties['iteration'])] = metrics\n\nrundata = pd.DataFrame(metricslist).sort_index(1)\nrundata",
      "execution_count": 48,
      "outputs": [
        {
          "output_type": "execute_result",
          "execution_count": 48,
          "data": {
            "text/html": "<div>\n<style scoped>\n    .dataframe tbody tr th:only-of-type {\n        vertical-align: middle;\n    }\n\n    .dataframe tbody tr th {\n        vertical-align: top;\n    }\n\n    .dataframe thead th {\n        text-align: right;\n    }\n</style>\n<table border=\"1\" class=\"dataframe\">\n  <thead>\n    <tr style=\"text-align: right;\">\n      <th></th>\n      <th>0</th>\n      <th>1</th>\n      <th>2</th>\n      <th>3</th>\n      <th>4</th>\n      <th>5</th>\n      <th>6</th>\n      <th>7</th>\n      <th>8</th>\n      <th>9</th>\n      <th>10</th>\n      <th>11</th>\n      <th>12</th>\n      <th>13</th>\n      <th>14</th>\n      <th>15</th>\n      <th>16</th>\n      <th>17</th>\n      <th>18</th>\n      <th>19</th>\n    </tr>\n  </thead>\n  <tbody>\n    <tr>\n      <th>AUC_macro</th>\n      <td>0.99</td>\n      <td>1.00</td>\n      <td>1.00</td>\n      <td>0.99</td>\n      <td>1.00</td>\n      <td>1.00</td>\n      <td>1.00</td>\n      <td>0.98</td>\n      <td>0.98</td>\n      <td>1.00</td>\n      <td>0.98</td>\n      <td>0.99</td>\n      <td>1.00</td>\n      <td>0.97</td>\n      <td>0.99</td>\n      <td>0.98</td>\n      <td>1.00</td>\n      <td>1.00</td>\n      <td>1.00</td>\n      <td>0.98</td>\n    </tr>\n    <tr>\n      <th>AUC_micro</th>\n      <td>1.00</td>\n      <td>1.00</td>\n      <td>1.00</td>\n      <td>0.99</td>\n      <td>1.00</td>\n      <td>1.00</td>\n      <td>1.00</td>\n      <td>0.99</td>\n      <td>0.98</td>\n      <td>1.00</td>\n      <td>0.98</td>\n      <td>0.99</td>\n      <td>1.00</td>\n      <td>0.97</td>\n      <td>0.99</td>\n      <td>0.99</td>\n      <td>1.00</td>\n      <td>1.00</td>\n      <td>1.00</td>\n      <td>0.99</td>\n    </tr>\n    <tr>\n      <th>AUC_weighted</th>\n      <td>0.99</td>\n      <td>1.00</td>\n      <td>1.00</td>\n      <td>0.99</td>\n      <td>1.00</td>\n      <td>1.00</td>\n      <td>1.00</td>\n      <td>0.98</td>\n      <td>0.98</td>\n      <td>1.00</td>\n      <td>0.98</td>\n      <td>0.99</td>\n      <td>1.00</td>\n      <td>0.97</td>\n      <td>0.99</td>\n      <td>0.98</td>\n      <td>1.00</td>\n      <td>1.00</td>\n      <td>1.00</td>\n      <td>0.98</td>\n    </tr>\n    <tr>\n      <th>accuracy</th>\n      <td>0.95</td>\n      <td>0.96</td>\n      <td>0.95</td>\n      <td>0.91</td>\n      <td>0.95</td>\n      <td>0.94</td>\n      <td>0.96</td>\n      <td>0.87</td>\n      <td>0.86</td>\n      <td>0.95</td>\n      <td>0.86</td>\n      <td>0.89</td>\n      <td>0.96</td>\n      <td>0.80</td>\n      <td>0.90</td>\n      <td>0.88</td>\n      <td>0.97</td>\n      <td>0.94</td>\n      <td>0.96</td>\n      <td>0.86</td>\n    </tr>\n    <tr>\n      <th>average_precision_score_macro</th>\n      <td>0.98</td>\n      <td>0.99</td>\n      <td>0.99</td>\n      <td>0.94</td>\n      <td>0.98</td>\n      <td>0.99</td>\n      <td>0.99</td>\n      <td>0.92</td>\n      <td>0.91</td>\n      <td>0.98</td>\n      <td>0.92</td>\n      <td>0.95</td>\n      <td>0.99</td>\n      <td>0.87</td>\n      <td>0.96</td>\n      <td>0.92</td>\n      <td>1.00</td>\n      <td>0.98</td>\n      <td>0.99</td>\n      <td>0.93</td>\n    </tr>\n    <tr>\n      <th>average_precision_score_micro</th>\n      <td>0.98</td>\n      <td>0.99</td>\n      <td>0.99</td>\n      <td>0.94</td>\n      <td>0.98</td>\n      <td>0.99</td>\n      <td>0.99</td>\n      <td>0.93</td>\n      <td>0.88</td>\n      <td>0.98</td>\n      <td>0.92</td>\n      <td>0.95</td>\n      <td>0.99</td>\n      <td>0.86</td>\n      <td>0.96</td>\n      <td>0.93</td>\n      <td>1.00</td>\n      <td>0.98</td>\n      <td>0.99</td>\n      <td>0.94</td>\n    </tr>\n    <tr>\n      <th>average_precision_score_weighted</th>\n      <td>0.98</td>\n      <td>0.99</td>\n      <td>0.99</td>\n      <td>0.94</td>\n      <td>0.98</td>\n      <td>0.99</td>\n      <td>0.99</td>\n      <td>0.92</td>\n      <td>0.91</td>\n      <td>0.98</td>\n      <td>0.92</td>\n      <td>0.95</td>\n      <td>0.99</td>\n      <td>0.87</td>\n      <td>0.96</td>\n      <td>0.92</td>\n      <td>1.00</td>\n      <td>0.98</td>\n      <td>0.99</td>\n      <td>0.93</td>\n    </tr>\n    <tr>\n      <th>balanced_accuracy</th>\n      <td>0.95</td>\n      <td>0.97</td>\n      <td>0.95</td>\n      <td>0.91</td>\n      <td>0.95</td>\n      <td>0.94</td>\n      <td>0.96</td>\n      <td>0.87</td>\n      <td>0.86</td>\n      <td>0.95</td>\n      <td>0.86</td>\n      <td>0.89</td>\n      <td>0.96</td>\n      <td>0.81</td>\n      <td>0.90</td>\n      <td>0.88</td>\n      <td>0.97</td>\n      <td>0.94</td>\n      <td>0.96</td>\n      <td>0.86</td>\n    </tr>\n    <tr>\n      <th>f1_score_macro</th>\n      <td>0.95</td>\n      <td>0.96</td>\n      <td>0.95</td>\n      <td>0.91</td>\n      <td>0.95</td>\n      <td>0.94</td>\n      <td>0.96</td>\n      <td>0.87</td>\n      <td>0.85</td>\n      <td>0.94</td>\n      <td>0.86</td>\n      <td>0.89</td>\n      <td>0.96</td>\n      <td>0.79</td>\n      <td>0.90</td>\n      <td>0.88</td>\n      <td>0.97</td>\n      <td>0.94</td>\n      <td>0.96</td>\n      <td>0.83</td>\n    </tr>\n    <tr>\n      <th>f1_score_micro</th>\n      <td>0.95</td>\n      <td>0.96</td>\n      <td>0.95</td>\n      <td>0.91</td>\n      <td>0.95</td>\n      <td>0.94</td>\n      <td>0.96</td>\n      <td>0.87</td>\n      <td>0.86</td>\n      <td>0.95</td>\n      <td>0.86</td>\n      <td>0.89</td>\n      <td>0.96</td>\n      <td>0.80</td>\n      <td>0.90</td>\n      <td>0.88</td>\n      <td>0.97</td>\n      <td>0.94</td>\n      <td>0.96</td>\n      <td>0.86</td>\n    </tr>\n    <tr>\n      <th>f1_score_weighted</th>\n      <td>0.95</td>\n      <td>0.96</td>\n      <td>0.95</td>\n      <td>0.91</td>\n      <td>0.95</td>\n      <td>0.94</td>\n      <td>0.96</td>\n      <td>0.87</td>\n      <td>0.86</td>\n      <td>0.95</td>\n      <td>0.86</td>\n      <td>0.89</td>\n      <td>0.96</td>\n      <td>0.80</td>\n      <td>0.90</td>\n      <td>0.88</td>\n      <td>0.97</td>\n      <td>0.94</td>\n      <td>0.96</td>\n      <td>0.83</td>\n    </tr>\n    <tr>\n      <th>log_loss</th>\n      <td>0.51</td>\n      <td>0.22</td>\n      <td>0.31</td>\n      <td>1.61</td>\n      <td>0.76</td>\n      <td>0.32</td>\n      <td>0.29</td>\n      <td>1.02</td>\n      <td>2.16</td>\n      <td>0.26</td>\n      <td>0.90</td>\n      <td>0.98</td>\n      <td>0.19</td>\n      <td>1.13</td>\n      <td>1.11</td>\n      <td>0.85</td>\n      <td>0.12</td>\n      <td>0.45</td>\n      <td>0.30</td>\n      <td>0.65</td>\n    </tr>\n    <tr>\n      <th>norm_macro_recall</th>\n      <td>0.95</td>\n      <td>0.96</td>\n      <td>0.94</td>\n      <td>0.90</td>\n      <td>0.94</td>\n      <td>0.93</td>\n      <td>0.95</td>\n      <td>0.86</td>\n      <td>0.85</td>\n      <td>0.94</td>\n      <td>0.85</td>\n      <td>0.88</td>\n      <td>0.95</td>\n      <td>0.78</td>\n      <td>0.89</td>\n      <td>0.86</td>\n      <td>0.96</td>\n      <td>0.94</td>\n      <td>0.96</td>\n      <td>0.84</td>\n    </tr>\n    <tr>\n      <th>precision_score_macro</th>\n      <td>0.95</td>\n      <td>0.96</td>\n      <td>0.95</td>\n      <td>0.91</td>\n      <td>0.95</td>\n      <td>0.94</td>\n      <td>0.96</td>\n      <td>0.87</td>\n      <td>0.87</td>\n      <td>0.95</td>\n      <td>0.86</td>\n      <td>0.89</td>\n      <td>0.96</td>\n      <td>0.81</td>\n      <td>0.90</td>\n      <td>0.88</td>\n      <td>0.97</td>\n      <td>0.94</td>\n      <td>0.96</td>\n      <td>0.82</td>\n    </tr>\n    <tr>\n      <th>precision_score_micro</th>\n      <td>0.95</td>\n      <td>0.96</td>\n      <td>0.95</td>\n      <td>0.91</td>\n      <td>0.95</td>\n      <td>0.94</td>\n      <td>0.96</td>\n      <td>0.87</td>\n      <td>0.86</td>\n      <td>0.95</td>\n      <td>0.86</td>\n      <td>0.89</td>\n      <td>0.96</td>\n      <td>0.80</td>\n      <td>0.90</td>\n      <td>0.88</td>\n      <td>0.97</td>\n      <td>0.94</td>\n      <td>0.96</td>\n      <td>0.86</td>\n    </tr>\n    <tr>\n      <th>precision_score_weighted</th>\n      <td>0.95</td>\n      <td>0.96</td>\n      <td>0.95</td>\n      <td>0.91</td>\n      <td>0.95</td>\n      <td>0.94</td>\n      <td>0.96</td>\n      <td>0.87</td>\n      <td>0.87</td>\n      <td>0.95</td>\n      <td>0.87</td>\n      <td>0.90</td>\n      <td>0.96</td>\n      <td>0.81</td>\n      <td>0.91</td>\n      <td>0.88</td>\n      <td>0.97</td>\n      <td>0.95</td>\n      <td>0.96</td>\n      <td>0.83</td>\n    </tr>\n    <tr>\n      <th>recall_score_macro</th>\n      <td>0.95</td>\n      <td>0.97</td>\n      <td>0.95</td>\n      <td>0.91</td>\n      <td>0.95</td>\n      <td>0.94</td>\n      <td>0.96</td>\n      <td>0.87</td>\n      <td>0.86</td>\n      <td>0.95</td>\n      <td>0.86</td>\n      <td>0.89</td>\n      <td>0.96</td>\n      <td>0.81</td>\n      <td>0.90</td>\n      <td>0.88</td>\n      <td>0.97</td>\n      <td>0.94</td>\n      <td>0.96</td>\n      <td>0.86</td>\n    </tr>\n    <tr>\n      <th>recall_score_micro</th>\n      <td>0.95</td>\n      <td>0.96</td>\n      <td>0.95</td>\n      <td>0.91</td>\n      <td>0.95</td>\n      <td>0.94</td>\n      <td>0.96</td>\n      <td>0.87</td>\n      <td>0.86</td>\n      <td>0.95</td>\n      <td>0.86</td>\n      <td>0.89</td>\n      <td>0.96</td>\n      <td>0.80</td>\n      <td>0.90</td>\n      <td>0.88</td>\n      <td>0.97</td>\n      <td>0.94</td>\n      <td>0.96</td>\n      <td>0.86</td>\n    </tr>\n    <tr>\n      <th>recall_score_weighted</th>\n      <td>0.95</td>\n      <td>0.96</td>\n      <td>0.95</td>\n      <td>0.91</td>\n      <td>0.95</td>\n      <td>0.94</td>\n      <td>0.96</td>\n      <td>0.87</td>\n      <td>0.86</td>\n      <td>0.95</td>\n      <td>0.86</td>\n      <td>0.89</td>\n      <td>0.96</td>\n      <td>0.80</td>\n      <td>0.90</td>\n      <td>0.88</td>\n      <td>0.97</td>\n      <td>0.94</td>\n      <td>0.96</td>\n      <td>0.86</td>\n    </tr>\n    <tr>\n      <th>weighted_accuracy</th>\n      <td>0.95</td>\n      <td>0.96</td>\n      <td>0.95</td>\n      <td>0.91</td>\n      <td>0.95</td>\n      <td>0.94</td>\n      <td>0.96</td>\n      <td>0.87</td>\n      <td>0.86</td>\n      <td>0.94</td>\n      <td>0.86</td>\n      <td>0.89</td>\n      <td>0.96</td>\n      <td>0.80</td>\n      <td>0.90</td>\n      <td>0.88</td>\n      <td>0.97</td>\n      <td>0.94</td>\n      <td>0.96</td>\n      <td>0.85</td>\n    </tr>\n  </tbody>\n</table>\n</div>",
            "text/plain": "                                    0    1    2    3    4    5    6    7    8  \\\nAUC_macro                        0.99 1.00 1.00 0.99 1.00 1.00 1.00 0.98 0.98   \nAUC_micro                        1.00 1.00 1.00 0.99 1.00 1.00 1.00 0.99 0.98   \nAUC_weighted                     0.99 1.00 1.00 0.99 1.00 1.00 1.00 0.98 0.98   \naccuracy                         0.95 0.96 0.95 0.91 0.95 0.94 0.96 0.87 0.86   \naverage_precision_score_macro    0.98 0.99 0.99 0.94 0.98 0.99 0.99 0.92 0.91   \naverage_precision_score_micro    0.98 0.99 0.99 0.94 0.98 0.99 0.99 0.93 0.88   \naverage_precision_score_weighted 0.98 0.99 0.99 0.94 0.98 0.99 0.99 0.92 0.91   \nbalanced_accuracy                0.95 0.97 0.95 0.91 0.95 0.94 0.96 0.87 0.86   \nf1_score_macro                   0.95 0.96 0.95 0.91 0.95 0.94 0.96 0.87 0.85   \nf1_score_micro                   0.95 0.96 0.95 0.91 0.95 0.94 0.96 0.87 0.86   \nf1_score_weighted                0.95 0.96 0.95 0.91 0.95 0.94 0.96 0.87 0.86   \nlog_loss                         0.51 0.22 0.31 1.61 0.76 0.32 0.29 1.02 2.16   \nnorm_macro_recall                0.95 0.96 0.94 0.90 0.94 0.93 0.95 0.86 0.85   \nprecision_score_macro            0.95 0.96 0.95 0.91 0.95 0.94 0.96 0.87 0.87   \nprecision_score_micro            0.95 0.96 0.95 0.91 0.95 0.94 0.96 0.87 0.86   \nprecision_score_weighted         0.95 0.96 0.95 0.91 0.95 0.94 0.96 0.87 0.87   \nrecall_score_macro               0.95 0.97 0.95 0.91 0.95 0.94 0.96 0.87 0.86   \nrecall_score_micro               0.95 0.96 0.95 0.91 0.95 0.94 0.96 0.87 0.86   \nrecall_score_weighted            0.95 0.96 0.95 0.91 0.95 0.94 0.96 0.87 0.86   \nweighted_accuracy                0.95 0.96 0.95 0.91 0.95 0.94 0.96 0.87 0.86   \n\n                                    9   10   11   12   13   14   15   16   17  \\\nAUC_macro                        1.00 0.98 0.99 1.00 0.97 0.99 0.98 1.00 1.00   \nAUC_micro                        1.00 0.98 0.99 1.00 0.97 0.99 0.99 1.00 1.00   \nAUC_weighted                     1.00 0.98 0.99 1.00 0.97 0.99 0.98 1.00 1.00   \naccuracy                         0.95 0.86 0.89 0.96 0.80 0.90 0.88 0.97 0.94   \naverage_precision_score_macro    0.98 0.92 0.95 0.99 0.87 0.96 0.92 1.00 0.98   \naverage_precision_score_micro    0.98 0.92 0.95 0.99 0.86 0.96 0.93 1.00 0.98   \naverage_precision_score_weighted 0.98 0.92 0.95 0.99 0.87 0.96 0.92 1.00 0.98   \nbalanced_accuracy                0.95 0.86 0.89 0.96 0.81 0.90 0.88 0.97 0.94   \nf1_score_macro                   0.94 0.86 0.89 0.96 0.79 0.90 0.88 0.97 0.94   \nf1_score_micro                   0.95 0.86 0.89 0.96 0.80 0.90 0.88 0.97 0.94   \nf1_score_weighted                0.95 0.86 0.89 0.96 0.80 0.90 0.88 0.97 0.94   \nlog_loss                         0.26 0.90 0.98 0.19 1.13 1.11 0.85 0.12 0.45   \nnorm_macro_recall                0.94 0.85 0.88 0.95 0.78 0.89 0.86 0.96 0.94   \nprecision_score_macro            0.95 0.86 0.89 0.96 0.81 0.90 0.88 0.97 0.94   \nprecision_score_micro            0.95 0.86 0.89 0.96 0.80 0.90 0.88 0.97 0.94   \nprecision_score_weighted         0.95 0.87 0.90 0.96 0.81 0.91 0.88 0.97 0.95   \nrecall_score_macro               0.95 0.86 0.89 0.96 0.81 0.90 0.88 0.97 0.94   \nrecall_score_micro               0.95 0.86 0.89 0.96 0.80 0.90 0.88 0.97 0.94   \nrecall_score_weighted            0.95 0.86 0.89 0.96 0.80 0.90 0.88 0.97 0.94   \nweighted_accuracy                0.94 0.86 0.89 0.96 0.80 0.90 0.88 0.97 0.94   \n\n                                   18   19  \nAUC_macro                        1.00 0.98  \nAUC_micro                        1.00 0.99  \nAUC_weighted                     1.00 0.98  \naccuracy                         0.96 0.86  \naverage_precision_score_macro    0.99 0.93  \naverage_precision_score_micro    0.99 0.94  \naverage_precision_score_weighted 0.99 0.93  \nbalanced_accuracy                0.96 0.86  \nf1_score_macro                   0.96 0.83  \nf1_score_micro                   0.96 0.86  \nf1_score_weighted                0.96 0.83  \nlog_loss                         0.30 0.65  \nnorm_macro_recall                0.96 0.84  \nprecision_score_macro            0.96 0.82  \nprecision_score_micro            0.96 0.86  \nprecision_score_weighted         0.96 0.83  \nrecall_score_macro               0.96 0.86  \nrecall_score_micro               0.96 0.86  \nrecall_score_weighted            0.96 0.86  \nweighted_accuracy                0.96 0.85  "
          },
          "metadata": {}
        }
      ]
    },
    {
      "metadata": {},
      "cell_type": "markdown",
      "source": "### Retrieve the Best Model\n\nBelow we select the best pipeline from our iterations. The `get_output` method returns the best run and the fitted model. The Model includes the pipeline and any pre-processing.  Overloads on `get_output` allow you to retrieve the best run and fitted model for *any* logged metric or for a particular *iteration*."
    },
    {
      "metadata": {
        "trusted": true
      },
      "cell_type": "code",
      "source": "selected_run, fitted_model = remote_run.get_output(14)   # 14  light gbm  see above\nprint(selected_run)",
      "execution_count": 49,
      "outputs": [
        {
          "output_type": "stream",
          "text": "Run(Experiment: automl_remote,\nId: AutoML_f102a04e-f447-4078-8dee-faa34b86422a_14,\nType: azureml.scriptrun,\nStatus: Completed)\n",
          "name": "stdout"
        }
      ]
    },
    {
      "metadata": {
        "trusted": true
      },
      "cell_type": "code",
      "source": "best_run, fitted_model = remote_run.get_output()   #or local_run\nprint(best_run)",
      "execution_count": 51,
      "outputs": [
        {
          "output_type": "stream",
          "text": "Run(Experiment: automl_remote,\nId: AutoML_f102a04e-f447-4078-8dee-faa34b86422a_16,\nType: azureml.scriptrun,\nStatus: Completed)\n",
          "name": "stdout"
        }
      ]
    },
    {
      "metadata": {},
      "cell_type": "markdown",
      "source": "#### Print the properties of the model\nThe fitted_model is a python object and you can read the different properties of the object.\nThe following shows printing hyperparameters for each step in the pipeline."
    },
    {
      "metadata": {
        "trusted": true
      },
      "cell_type": "code",
      "source": "from pprint import pprint\n\ndef print_model(model, prefix=\"\"):\n    for step in model.steps:\n        print(prefix + step[0])\n        if hasattr(step[1], 'estimators') and hasattr(step[1], 'weights'):\n            pprint({'estimators': list(e[0] for e in step[1].estimators), 'weights': step[1].weights})\n            print()\n            for estimator in step[1].estimators:\n                print_model(estimator[1], estimator[0]+ ' - ')\n        elif hasattr(step[1], '_base_learners') and hasattr(step[1], '_meta_learner'):\n            print(\"\\nMeta Learner\")\n            pprint(step[1]._meta_learner)\n            print()\n            for estimator in step[1]._base_learners:\n                print_model(estimator[1], estimator[0]+ ' - ')\n        else:\n            pprint(step[1].get_params())\n            print()\n            \nprint_model(fitted_model)",
      "execution_count": 52,
      "outputs": [
        {
          "output_type": "stream",
          "text": "StandardScalerWrapper\n{'class_name': 'StandardScaler',\n 'copy': True,\n 'module_name': 'sklearn.preprocessing.data',\n 'with_mean': True,\n 'with_std': True}\n\nLightGBMClassifier\n{'boosting_type': 'goss',\n 'class_weight': None,\n 'colsample_bytree': 0.7922222222222222,\n 'importance_type': 'split',\n 'learning_rate': 0.06316157894736842,\n 'max_bin': 310,\n 'max_depth': 5,\n 'min_child_samples': 6,\n 'min_child_weight': 8,\n 'min_split_gain': 0.05263157894736842,\n 'n_estimators': 600,\n 'n_jobs': 1,\n 'num_leaves': 200,\n 'objective': None,\n 'random_state': None,\n 'reg_alpha': 0,\n 'reg_lambda': 0.5263157894736842,\n 'silent': True,\n 'subsample': 1,\n 'subsample_for_bin': 200000,\n 'subsample_freq': 0,\n 'verbose': -10}\n\n",
          "name": "stdout"
        }
      ]
    },
    {
      "metadata": {},
      "cell_type": "markdown",
      "source": "#### Best Model Based on Any Other Metric\nShow the run and the model that has the smallest `log_loss` value:"
    },
    {
      "metadata": {
        "trusted": true
      },
      "cell_type": "code",
      "source": "lookup_metric = \"log_loss\"\nbest_run, fitted_model = local_run.get_output(metric = lookup_metric)\nprint(best_run)",
      "execution_count": 53,
      "outputs": [
        {
          "output_type": "stream",
          "text": "Run(Experiment: automl-classification,\nId: AutoML_93b2d238-ddef-4689-b8b2-d278c072bc5f_65,\nType: None,\nStatus: Completed)\n",
          "name": "stdout"
        }
      ]
    },
    {
      "metadata": {
        "trusted": true
      },
      "cell_type": "code",
      "source": "print_model(fitted_model)",
      "execution_count": 54,
      "outputs": [
        {
          "output_type": "stream",
          "text": "StandardScalerWrapper\n{'class_name': 'StandardScaler',\n 'copy': True,\n 'module_name': 'sklearn.preprocessing.data',\n 'with_mean': True,\n 'with_std': True}\n\nSVCWrapper\n{'C': 3237.45754281764,\n 'cache_size': 200,\n 'class_weight': 'balanced',\n 'coef0': 0.0,\n 'decision_function_shape': 'ovr',\n 'degree': 3,\n 'gamma': 'auto_deprecated',\n 'kernel': 'poly',\n 'max_iter': -1,\n 'probability': True,\n 'random_state': None,\n 'shrinking': True,\n 'tol': 0.001,\n 'verbose': False}\n\n",
          "name": "stdout"
        }
      ]
    },
    {
      "metadata": {},
      "cell_type": "markdown",
      "source": "#### Model from a Specific Iteration\nShow the run and the model from the third iteration:"
    },
    {
      "metadata": {
        "trusted": true
      },
      "cell_type": "code",
      "source": "iteration = 3\nthird_run, third_model = local_run.get_output(iteration = iteration)\nprint(third_run)",
      "execution_count": 55,
      "outputs": [
        {
          "output_type": "stream",
          "text": "Run(Experiment: automl-classification,\nId: AutoML_93b2d238-ddef-4689-b8b2-d278c072bc5f_3,\nType: None,\nStatus: Completed)\n",
          "name": "stdout"
        }
      ]
    },
    {
      "metadata": {
        "trusted": true
      },
      "cell_type": "code",
      "source": "print_model(third_model)",
      "execution_count": 56,
      "outputs": [
        {
          "output_type": "stream",
          "text": "StandardScalerWrapper\n{'class_name': 'StandardScaler',\n 'copy': True,\n 'module_name': 'sklearn.preprocessing.data',\n 'with_mean': True,\n 'with_std': True}\n\nSGDClassifierWrapper\n{'alpha': 0.0001,\n 'class_weight': 'balanced',\n 'eta0': 0.0001,\n 'fit_intercept': False,\n 'l1_ratio': 0.3469387755102041,\n 'learning_rate': 'constant',\n 'loss': 'modified_huber',\n 'max_iter': 1000,\n 'n_jobs': 1,\n 'penalty': 'l2',\n 'power_t': 0.2222222222222222,\n 'random_state': None,\n 'tol': 0.01}\n\n",
          "name": "stdout"
        }
      ]
    },
    {
      "metadata": {},
      "cell_type": "markdown",
      "source": "## Test \n\n#### Load Test Data"
    },
    {
      "metadata": {
        "trusted": true
      },
      "cell_type": "code",
      "source": "type(datasets)",
      "execution_count": 64,
      "outputs": [
        {
          "output_type": "execute_result",
          "execution_count": 64,
          "data": {
            "text/plain": "module"
          },
          "metadata": {}
        }
      ]
    },
    {
      "metadata": {
        "trusted": true
      },
      "cell_type": "code",
      "source": "digits = datasets.load_digits()\nX_test = digits.data[:10, :]\ny_test = digits.target[:10]\nimages = digits.images[:10]",
      "execution_count": 57,
      "outputs": []
    },
    {
      "metadata": {
        "trusted": true
      },
      "cell_type": "code",
      "source": "plt.imshow(images[6], cmap = plt.cm.gray_r, interpolation = 'nearest')\nplt.show()",
      "execution_count": 61,
      "outputs": [
        {
          "output_type": "display_data",
          "data": {
            "image/png": "[encoded data removed]",
            "text/plain": "<Figure size 432x288 with 1 Axes>"
          },
          "metadata": {
            "needs_background": "light"
          }
        }
      ]
    },
    {
      "metadata": {},
      "cell_type": "markdown",
      "source": "#### Testing Our Best Fitted Model\nWe will try to predict 2 digits and see how our model works."
    },
    {
      "metadata": {
        "trusted": true
      },
      "cell_type": "code",
      "source": "# Randomly select digits and test.\nfor index in np.random.choice(len(y_test), 2, replace = False):\n    print(index)\n    predicted = fitted_model.predict(X_test[index:index + 1])[0]\n    label = y_test[index]\n    title = \"Label value = %d  Predicted value = %d \" % (label, predicted)\n    fig = plt.figure(1, figsize = (3,3))\n    ax1 = fig.add_axes((0,0,.8,.8))\n    ax1.set_title(title)\n    plt.imshow(images[index], cmap = plt.cm.gray_r, interpolation = 'nearest')\n    plt.show()",
      "execution_count": 63,
      "outputs": [
        {
          "output_type": "stream",
          "text": "3\n",
          "name": "stdout"
        },
        {
          "output_type": "display_data",
          "data": {
            "image/png": "[encoded data removed]",
            "text/plain": "<Figure size 216x216 with 1 Axes>"
          },
          "metadata": {
            "needs_background": "light"
          }
        },
        {
          "output_type": "stream",
          "text": "5\n",
          "name": "stdout"
        },
        {
          "output_type": "display_data",
          "data": {
            "image/png": "[encoded data removed]",
            "text/plain": "<Figure size 216x216 with 1 Axes>"
          },
          "metadata": {
            "needs_background": "light"
          }
        }
      ]
    }
  ],
  "metadata": {
    "authors": [
      {
        "name": "savitam"
      }
    ],
    "kernelspec": {
      "name": "python36",
      "display_name": "Python 3.6",
      "language": "python"
    },
    "language_info": {
      "mimetype": "text/x-python",
      "nbconvert_exporter": "python",
      "name": "python",
      "pygments_lexer": "ipython3",
      "version": "3.6.6",
      "file_extension": ".py",
      "codemirror_mode": {
        "version": 3,
        "name": "ipython"
      }
    }
  },
  "nbformat": 4,
  "nbformat_minor": 2
}