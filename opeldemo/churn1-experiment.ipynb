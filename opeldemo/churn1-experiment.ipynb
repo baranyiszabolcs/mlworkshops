{
  "cells": [
    {
      "metadata": {},
      "cell_type": "markdown",
      "source": "Configure workspace  select the appropriate Azure ML environment\nIt is necessary if create anew environmnet\nAlso  it will authenticate the note book to use  the workspace resource"
    },
    {
      "metadata": {
        "trusted": true
      },
      "cell_type": "code",
      "source": "import azureml.core\n\nprint(\"This notebook was created using version 1.0.57 of the Azure ML SDK\")\nprint(\"You are currently using version\", azureml.core.VERSION, \"of the Azure ML SDK\")",
      "execution_count": null,
      "outputs": []
    },
    {
      "metadata": {
        "trusted": true
      },
      "cell_type": "code",
      "source": "import os\n\nsubscription_id = os.getenv(\"SUBSCRIPTION_ID\", default=\"4a99ad0b-5a1c-46f4-bea8-e81845b5a94e\")\nresource_group = os.getenv(\"RESOURCE_GROUP\", default=\"bszmlworkshop\")\nworkspace_name = os.getenv(\"WORKSPACE_NAME\", default=\"bszmldemo\")\nworkspace_region = os.getenv(\"WORKSPACE_REGION\", default=\"northeurope\")",
      "execution_count": 6,
      "outputs": []
    },
    {
      "metadata": {
        "trusted": true
      },
      "cell_type": "code",
      "source": "#write the workspace config file   and authenticate if necessary\nfrom azureml.core import Workspace\n\ntry:\n    ws = Workspace(subscription_id = subscription_id, resource_group = resource_group, workspace_name = workspace_name)\n    # write the details of the workspace to a configuration file to the notebook library\n    ws.write_config()\n    print(\"Workspace configuration succeeded. Skip the workspace creation steps below\")\nexcept:\n    print(\"Workspace not accessible. Change your parameters or create a new workspace below\")",
      "execution_count": 8,
      "outputs": [
        {
          "output_type": "stream",
          "text": "Performing interactive authentication. Please follow the instructions on the terminal.\nTo sign in, use a web browser to open the page https://microsoft.com/devicelogin and enter the code F5CJUCBW8 to authenticate.\nInteractive authentication successfully completed.\nWorkspace configuration succeeded. Skip the workspace creation steps below\n",
          "name": "stdout"
        }
      ]
    },
    {
      "metadata": {
        "trusted": true
      },
      "cell_type": "code",
      "source": "##  list local dir just to know where i am\nfor name in os.listdir(os.getcwd()):\n    print(name)",
      "execution_count": 9,
      "outputs": [
        {
          "output_type": "stream",
          "text": "churn1-experiment.ipynb\nchurn2-experiment.ipynb\nREADME.md\nopeldata.csv\n.azureml\nclv2.ipynb\nopelAnalyze.ipynb\n",
          "name": "stdout"
        }
      ]
    },
    {
      "metadata": {
        "trusted": true
      },
      "cell_type": "code",
      "source": "#read back the   workspace config\nfrom azureml.core import Workspace\nws = Workspace.from_config()\n\n# Choose a name for the experiment and specify the project folder.\nexperiment_name = 'automl-classification'\nproject_folder = './sample_projects/automl-classification'\n\nexperiment = Experiment(ws, experiment_name)\n\noutput = {}\noutput['SDK version'] = azureml.core.VERSION\noutput['Subscription ID'] = ws.subscription_id\noutput['Workspace Name'] = ws.name\noutput['Resource Group'] = ws.resource_group\noutput['Location'] = ws.location\noutput['Project Directory'] = project_folder\noutput['Experiment Name'] = experiment.name\npd.set_option('display.max_colwidth', -1)\noutputDf = pd.DataFrame(data = output, index = [''])\noutputDf.T",
      "execution_count": 10,
      "outputs": [
        {
          "output_type": "execute_result",
          "execution_count": 10,
          "data": {
            "text/html": "<div>\n<style scoped>\n    .dataframe tbody tr th:only-of-type {\n        vertical-align: middle;\n    }\n\n    .dataframe tbody tr th {\n        vertical-align: top;\n    }\n\n    .dataframe thead th {\n        text-align: right;\n    }\n</style>\n<table border=\"1\" class=\"dataframe\">\n  <thead>\n    <tr style=\"text-align: right;\">\n      <th></th>\n      <th></th>\n    </tr>\n  </thead>\n  <tbody>\n    <tr>\n      <th>SDK version</th>\n      <td>1.0.57</td>\n    </tr>\n    <tr>\n      <th>Subscription ID</th>\n      <td>4a99ad0b-5a1c-46f4-bea8-e81845b5a94e</td>\n    </tr>\n    <tr>\n      <th>Workspace Name</th>\n      <td>bszmldemo</td>\n    </tr>\n    <tr>\n      <th>Resource Group</th>\n      <td>bszmlworkshop</td>\n    </tr>\n    <tr>\n      <th>Location</th>\n      <td>northeurope</td>\n    </tr>\n    <tr>\n      <th>Project Directory</th>\n      <td>./sample_projects/automl-classification</td>\n    </tr>\n    <tr>\n      <th>Experiment Name</th>\n      <td>automl-classification</td>\n    </tr>\n  </tbody>\n</table>\n</div>",
            "text/plain": "                                                          \nSDK version        1.0.57                                 \nSubscription ID    4a99ad0b-5a1c-46f4-bea8-e81845b5a94e   \nWorkspace Name     bszmldemo                              \nResource Group     bszmlworkshop                          \nLocation           northeurope                            \nProject Directory  ./sample_projects/automl-classification\nExperiment Name    automl-classification                  "
          },
          "metadata": {}
        }
      ]
    },
    {
      "metadata": {
        "trusted": true
      },
      "cell_type": "code",
      "source": "from azureml.core import Workspace\nws = Workspace.from_config()",
      "execution_count": 11,
      "outputs": []
    },
    {
      "metadata": {
        "trusted": true
      },
      "cell_type": "code",
      "source": "",
      "execution_count": null,
      "outputs": []
    },
    {
      "metadata": {
        "trusted": false
      },
      "cell_type": "code",
      "source": "# Importing the libraries\nimport numpy as np\nimport matplotlib.pyplot as plt\nimport pandas as pd\nimport seaborn as sns\n%matplotlib inline",
      "execution_count": 6,
      "outputs": []
    },
    {
      "metadata": {
        "trusted": false
      },
      "cell_type": "code",
      "source": "import logging\n\nfrom matplotlib import pyplot as plt\nimport pandas as pd\nimport os\n\nimport azureml.core\nfrom azureml.core.experiment import Experiment\nfrom azureml.core.workspace import Workspace\nfrom azureml.core.dataset import Dataset\nfrom azureml.train.automl import AutoMLConfig",
      "execution_count": 12,
      "outputs": [
        {
          "name": "stderr",
          "output_type": "stream",
          "text": "WARNING: Logging before flag parsing goes to stderr.\nW0905 18:21:19.741211 139938113029888 deprecation_wrapper.py:119] From /anaconda/envs/azureml_py36/lib/python3.6/site-packages/azureml/automl/core/_vendor/automl/client/core/common/tf_wrappers.py:36: The name tf.logging.set_verbosity is deprecated. Please use tf.compat.v1.logging.set_verbosity instead.\n\nW0905 18:21:19.742493 139938113029888 deprecation_wrapper.py:119] From /anaconda/envs/azureml_py36/lib/python3.6/site-packages/azureml/automl/core/_vendor/automl/client/core/common/tf_wrappers.py:36: The name tf.logging.ERROR is deprecated. Please use tf.compat.v1.logging.ERROR instead.\n\n"
        }
      ]
    },
    {
      "metadata": {
        "trusted": false
      },
      "cell_type": "code",
      "source": "pwd",
      "execution_count": 7,
      "outputs": [
        {
          "data": {
            "text/plain": "'/mnt/azmnt/code/Users'"
          },
          "execution_count": 7,
          "metadata": {},
          "output_type": "execute_result"
        }
      ]
    },
    {
      "metadata": {
        "trusted": false
      },
      "cell_type": "code",
      "source": "# choose a name for experiment\nexperiment_name = 'automl-comparision-curn-clv'\n# project folder\nproject_folder = './mnt/azmnt/code/Users/WA_Fn-UseC_-Telco-Customer-Churn'",
      "execution_count": 10,
      "outputs": []
    },
    {
      "metadata": {
        "trusted": false
      },
      "cell_type": "code",
      "source": "experiment=Experiment(ws, experiment_name)\n\noutput = {}\noutput['SDK version'] = azureml.core.VERSION\noutput['Subscription ID'] = ws.subscription_id\noutput['Workspace'] = ws.name\noutput['Resource Group'] = ws.resource_group\noutput['Location'] = ws.location\noutput['Project Directory'] = project_folder\noutput['Experiment Name'] = experiment.name\npd.set_option('display.max_colwidth', -1)\noutputDf = pd.DataFrame(data = output, index = [''])\noutputDf.T",
      "execution_count": 13,
      "outputs": [
        {
          "data": {
            "text/html": "<div>\n<style scoped>\n    .dataframe tbody tr th:only-of-type {\n        vertical-align: middle;\n    }\n\n    .dataframe tbody tr th {\n        vertical-align: top;\n    }\n\n    .dataframe thead th {\n        text-align: right;\n    }\n</style>\n<table border=\"1\" class=\"dataframe\">\n  <thead>\n    <tr style=\"text-align: right;\">\n      <th></th>\n      <th></th>\n    </tr>\n  </thead>\n  <tbody>\n    <tr>\n      <th>SDK version</th>\n      <td>1.0.57</td>\n    </tr>\n    <tr>\n      <th>Subscription ID</th>\n      <td>c66c342f-a989-4745-8c62-9ab2480be04e</td>\n    </tr>\n    <tr>\n      <th>Workspace</th>\n      <td>test_env2</td>\n    </tr>\n    <tr>\n      <th>Resource Group</th>\n      <td>churn_clv_training</td>\n    </tr>\n    <tr>\n      <th>Location</th>\n      <td>westeurope</td>\n    </tr>\n    <tr>\n      <th>Project Directory</th>\n      <td>./mnt/azmnt/code/Users/WA_Fn-UseC_-Telco-Customer-Churn</td>\n    </tr>\n    <tr>\n      <th>Experiment Name</th>\n      <td>automl-comparision-curn-clv</td>\n    </tr>\n  </tbody>\n</table>\n</div>",
            "text/plain": "                                                                          \nSDK version        1.0.57                                                 \nSubscription ID    c66c342f-a989-4745-8c62-9ab2480be04e                   \nWorkspace          test_env2                                              \nResource Group     churn_clv_training                                     \nLocation           westeurope                                             \nProject Directory  ./mnt/azmnt/code/Users/WA_Fn-UseC_-Telco-Customer-Churn\nExperiment Name    automl-comparision-curn-clv                            "
          },
          "execution_count": 13,
          "metadata": {},
          "output_type": "execute_result"
        }
      ]
    },
    {
      "metadata": {
        "trusted": false
      },
      "cell_type": "code",
      "source": "# Create or Attach existing AmlCompute\nfrom azureml.core.compute import AmlCompute\nfrom azureml.core.compute import ComputeTarget\n\n# Choose a name for your cluster.\namlcompute_cluster_name = \"curn-clv\"\n\nfound = False\n# Check if this compute target already exists in the workspace.\ncts = ws.compute_targets\nif amlcompute_cluster_name in cts and cts[amlcompute_cluster_name].type == 'AmlCompute':\n    found = True\n    print('Found existing compute target.')\n    compute_target = cts[amlcompute_cluster_name]\n    \nif not found:\n    print('Creating a new compute target...')\n    provisioning_config = AmlCompute.provisioning_configuration(vm_size = \"STANDARD_D2_V2\", # for GPU, use \"STANDARD_NC6\"\n                                                                #vm_priority = 'lowpriority', # optional\n                                                                max_nodes = 6)\n\n    # Create the cluster.\n    compute_target = ComputeTarget.create(ws, amlcompute_cluster_name, provisioning_config)\n    \nprint('Checking cluster status...')\n# Can poll for a minimum number of nodes and for a specific timeout.\n# If no min_node_count is provided, it will use the scale settings for the cluster.\ncompute_target.wait_for_completion(show_output = True, min_node_count = None, timeout_in_minutes = 20)\n\n# For a more detailed view of current AmlCompute status, use get_status().",
      "execution_count": 14,
      "outputs": [
        {
          "name": "stdout",
          "output_type": "stream",
          "text": "Creating a new compute target...\nChecking cluster status...\nCreating\nSucceeded\nAmlCompute wait for completion finished\nMinimum number of nodes requested have been provisioned\n"
        }
      ]
    },
    {
      "metadata": {
        "trusted": false
      },
      "cell_type": "code",
      "source": "#data\nif not os.path.isdir('data'):\n    os.mkdir('data')\n    \nif not os.path.exists(project_folder):\n    os.makedirs(project_folder)",
      "execution_count": 15,
      "outputs": []
    },
    {
      "metadata": {
        "trusted": false
      },
      "cell_type": "code",
      "source": "from azureml.core.runconfig import RunConfiguration\nfrom azureml.core.conda_dependencies import CondaDependencies\nimport pkg_resources\n\n# create a new RunConfig object\nconda_run_config = RunConfiguration(framework=\"python\")\n\n# Set compute target to AmlCompute\nconda_run_config.target = compute_target\nconda_run_config.environment.docker.enabled = True\n\ncd = CondaDependencies.create(conda_packages=['numpy','py-xgboost<=0.80'])\nconda_run_config.environment.python.conda_dependencies = cd",
      "execution_count": 16,
      "outputs": []
    },
    {
      "metadata": {
        "trusted": false
      },
      "cell_type": "code",
      "source": "dataset = pd.read_csv(\"./WA_Fn-UseC_-Telco-Customer-Churn.csv\")",
      "execution_count": 17,
      "outputs": []
    },
    {
      "metadata": {
        "trusted": false
      },
      "cell_type": "code",
      "source": "# basic analyis  of inpt data\ndataset.describe(include=[np.object])",
      "execution_count": 18,
      "outputs": [
        {
          "data": {
            "text/html": "<div>\n<style scoped>\n    .dataframe tbody tr th:only-of-type {\n        vertical-align: middle;\n    }\n\n    .dataframe tbody tr th {\n        vertical-align: top;\n    }\n\n    .dataframe thead th {\n        text-align: right;\n    }\n</style>\n<table border=\"1\" class=\"dataframe\">\n  <thead>\n    <tr style=\"text-align: right;\">\n      <th></th>\n      <th>customerID</th>\n      <th>gender</th>\n      <th>Partner</th>\n      <th>Dependents</th>\n      <th>PhoneService</th>\n      <th>MultipleLines</th>\n      <th>InternetService</th>\n      <th>OnlineSecurity</th>\n      <th>OnlineBackup</th>\n      <th>DeviceProtection</th>\n      <th>TechSupport</th>\n      <th>StreamingTV</th>\n      <th>StreamingMovies</th>\n      <th>Contract</th>\n      <th>PaperlessBilling</th>\n      <th>PaymentMethod</th>\n      <th>TotalCharges</th>\n      <th>Churn</th>\n    </tr>\n  </thead>\n  <tbody>\n    <tr>\n      <th>count</th>\n      <td>7043</td>\n      <td>7043</td>\n      <td>7043</td>\n      <td>7043</td>\n      <td>7043</td>\n      <td>7043</td>\n      <td>7043</td>\n      <td>7043</td>\n      <td>7043</td>\n      <td>7043</td>\n      <td>7043</td>\n      <td>7043</td>\n      <td>7043</td>\n      <td>7043</td>\n      <td>7043</td>\n      <td>7043</td>\n      <td>7043</td>\n      <td>7043</td>\n    </tr>\n    <tr>\n      <th>unique</th>\n      <td>7043</td>\n      <td>2</td>\n      <td>2</td>\n      <td>2</td>\n      <td>2</td>\n      <td>3</td>\n      <td>3</td>\n      <td>3</td>\n      <td>3</td>\n      <td>3</td>\n      <td>3</td>\n      <td>3</td>\n      <td>3</td>\n      <td>3</td>\n      <td>2</td>\n      <td>4</td>\n      <td>6531</td>\n      <td>2</td>\n    </tr>\n    <tr>\n      <th>top</th>\n      <td>5795-KTGUD</td>\n      <td>Male</td>\n      <td>No</td>\n      <td>No</td>\n      <td>Yes</td>\n      <td>No</td>\n      <td>Fiber optic</td>\n      <td>No</td>\n      <td>No</td>\n      <td>No</td>\n      <td>No</td>\n      <td>No</td>\n      <td>No</td>\n      <td>Month-to-month</td>\n      <td>Yes</td>\n      <td>Electronic check</td>\n      <td></td>\n      <td>No</td>\n    </tr>\n    <tr>\n      <th>freq</th>\n      <td>1</td>\n      <td>3555</td>\n      <td>3641</td>\n      <td>4933</td>\n      <td>6361</td>\n      <td>3390</td>\n      <td>3096</td>\n      <td>3498</td>\n      <td>3088</td>\n      <td>3095</td>\n      <td>3473</td>\n      <td>2810</td>\n      <td>2785</td>\n      <td>3875</td>\n      <td>4171</td>\n      <td>2365</td>\n      <td>11</td>\n      <td>5174</td>\n    </tr>\n  </tbody>\n</table>\n</div>",
            "text/plain": "        customerID gender Partner Dependents PhoneService MultipleLines  \\\ncount   7043        7043   7043    7043       7043         7043           \nunique  7043        2      2       2          2            3              \ntop     5795-KTGUD  Male   No      No         Yes          No             \nfreq    1           3555   3641    4933       6361         3390           \n\n       InternetService OnlineSecurity OnlineBackup DeviceProtection  \\\ncount   7043            7043           7043         7043              \nunique  3               3              3            3                 \ntop     Fiber optic     No             No           No                \nfreq    3096            3498           3088         3095              \n\n       TechSupport StreamingTV StreamingMovies        Contract  \\\ncount   7043        7043        7043            7043             \nunique  3           3           3               3                \ntop     No          No          No              Month-to-month   \nfreq    3473        2810        2785            3875             \n\n       PaperlessBilling     PaymentMethod TotalCharges Churn  \ncount   7043             7043              7043         7043  \nunique  2                4                 6531         2     \ntop     Yes              Electronic check               No    \nfreq    4171             2365              11           5174  "
          },
          "execution_count": 18,
          "metadata": {},
          "output_type": "execute_result"
        }
      ]
    },
    {
      "metadata": {
        "trusted": false
      },
      "cell_type": "code",
      "source": "#data type conversion  \"cleans\"  after read  csv\ndataset['TotalCharges']=dataset['TotalCharges'].convert_objects(convert_numeric=True)",
      "execution_count": 19,
      "outputs": [
        {
          "name": "stderr",
          "output_type": "stream",
          "text": "/anaconda/envs/azureml_py36/lib/python3.6/site-packages/ipykernel_launcher.py:1: FutureWarning: convert_objects is deprecated.  To re-infer data dtypes for object columns, use Series.infer_objects()\nFor all other conversions use the data-type specific converters pd.to_datetime, pd.to_timedelta and pd.to_numeric.\n  \"\"\"Entry point for launching an IPython kernel.\n"
        }
      ]
    },
    {
      "metadata": {
        "trusted": false
      },
      "cell_type": "code",
      "source": "# fill empty spaces with the mean of the neighbours\ndataset['TotalCharges'].fillna(dataset['TotalCharges'].mean(), inplace=True)",
      "execution_count": 20,
      "outputs": []
    },
    {
      "metadata": {
        "trusted": true
      },
      "cell_type": "code",
      "source": "#  dataset corellation analysis\ndataset.corr()",
      "execution_count": null,
      "outputs": []
    },
    {
      "metadata": {
        "trusted": false
      },
      "cell_type": "code",
      "source": "df=dataset.copy()",
      "execution_count": 22,
      "outputs": []
    },
    {
      "metadata": {
        "trusted": false
      },
      "cell_type": "code",
      "source": "unwantedcolumnlist=[\"customerID\",\"TotalCharges\"]",
      "execution_count": 23,
      "outputs": []
    },
    {
      "metadata": {
        "trusted": false
      },
      "cell_type": "code",
      "source": "#  remove the unwanted column\ndf = df.drop(unwantedcolumnlist, axis=1)",
      "execution_count": 24,
      "outputs": []
    },
    {
      "metadata": {
        "trusted": false
      },
      "cell_type": "code",
      "source": "# calculate corellation between  different variables  if 2 variabless  highly cirellated   near 1  then use only one of them ~.7  looks corellated\nstr_list = [] # empty list to contain columns with strings (words)\nfor colname, colvalue in df.iteritems():\n    if type(colvalue[1]) == str:\n         str_list.append(colname)\n# Get to the numeric columns by inversion            \nnum_list = df.columns.difference(str_list) \n# Create Dataframe containing only numerical features\ndf_num = df[num_list]\nf, ax = plt.subplots(figsize=(16, 12))\nplt.title('Pearson Correlation of features')\n# Draw the heatmap using seaborn\n#sns.heatmap(house_num.astype(float).corr(),linewidths=0.25,vmax=1.0, square=True, cmap=\"PuBuGn\", linecolor='k', annot=True)\nsns.heatmap(df_num.astype(float).corr(),linewidths=0.25,vmax=1.0, square=True, cmap=\"cubehelix\", linecolor='k', annot=True)",
      "execution_count": 25,
      "outputs": [
        {
          "data": {
            "text/plain": "<matplotlib.axes._subplots.AxesSubplot at 0x7f45392900b8>"
          },
          "execution_count": 25,
          "metadata": {},
          "output_type": "execute_result"
        },
        {
          "data": {
            "image/png": "[encoded data removed]",
            "text/plain": "<Figure size 1152x864 with 2 Axes>"
          },
          "metadata": {
            "needs_background": "light"
          },
          "output_type": "display_data"
        }
      ]
    },
    {
      "metadata": {
        "trusted": false
      },
      "cell_type": "code",
      "source": "#create sample data\ndata_dummy=pd.get_dummies(df,drop_first=True)",
      "execution_count": 26,
      "outputs": []
    },
    {
      "metadata": {
        "trusted": false
      },
      "cell_type": "code",
      "source": "len(data_dummy.columns)",
      "execution_count": 27,
      "outputs": [
        {
          "data": {
            "text/plain": "30"
          },
          "execution_count": 27,
          "metadata": {},
          "output_type": "execute_result"
        }
      ]
    },
    {
      "metadata": {
        "trusted": false
      },
      "cell_type": "code",
      "source": "data_dummy.head(5)",
      "execution_count": 28,
      "outputs": [
        {
          "data": {
            "text/html": "<div>\n<style scoped>\n    .dataframe tbody tr th:only-of-type {\n        vertical-align: middle;\n    }\n\n    .dataframe tbody tr th {\n        vertical-align: top;\n    }\n\n    .dataframe thead th {\n        text-align: right;\n    }\n</style>\n<table border=\"1\" class=\"dataframe\">\n  <thead>\n    <tr style=\"text-align: right;\">\n      <th></th>\n      <th>SeniorCitizen</th>\n      <th>tenure</th>\n      <th>MonthlyCharges</th>\n      <th>gender_Male</th>\n      <th>Partner_Yes</th>\n      <th>Dependents_Yes</th>\n      <th>PhoneService_Yes</th>\n      <th>MultipleLines_No phone service</th>\n      <th>MultipleLines_Yes</th>\n      <th>InternetService_Fiber optic</th>\n      <th>...</th>\n      <th>StreamingTV_Yes</th>\n      <th>StreamingMovies_No internet service</th>\n      <th>StreamingMovies_Yes</th>\n      <th>Contract_One year</th>\n      <th>Contract_Two year</th>\n      <th>PaperlessBilling_Yes</th>\n      <th>PaymentMethod_Credit card (automatic)</th>\n      <th>PaymentMethod_Electronic check</th>\n      <th>PaymentMethod_Mailed check</th>\n      <th>Churn_Yes</th>\n    </tr>\n  </thead>\n  <tbody>\n    <tr>\n      <th>0</th>\n      <td>0</td>\n      <td>1</td>\n      <td>29.85</td>\n      <td>0</td>\n      <td>1</td>\n      <td>0</td>\n      <td>0</td>\n      <td>1</td>\n      <td>0</td>\n      <td>0</td>\n      <td>...</td>\n      <td>0</td>\n      <td>0</td>\n      <td>0</td>\n      <td>0</td>\n      <td>0</td>\n      <td>1</td>\n      <td>0</td>\n      <td>1</td>\n      <td>0</td>\n      <td>0</td>\n    </tr>\n    <tr>\n      <th>1</th>\n      <td>0</td>\n      <td>34</td>\n      <td>56.95</td>\n      <td>1</td>\n      <td>0</td>\n      <td>0</td>\n      <td>1</td>\n      <td>0</td>\n      <td>0</td>\n      <td>0</td>\n      <td>...</td>\n      <td>0</td>\n      <td>0</td>\n      <td>0</td>\n      <td>1</td>\n      <td>0</td>\n      <td>0</td>\n      <td>0</td>\n      <td>0</td>\n      <td>1</td>\n      <td>0</td>\n    </tr>\n    <tr>\n      <th>2</th>\n      <td>0</td>\n      <td>2</td>\n      <td>53.85</td>\n      <td>1</td>\n      <td>0</td>\n      <td>0</td>\n      <td>1</td>\n      <td>0</td>\n      <td>0</td>\n      <td>0</td>\n      <td>...</td>\n      <td>0</td>\n      <td>0</td>\n      <td>0</td>\n      <td>0</td>\n      <td>0</td>\n      <td>1</td>\n      <td>0</td>\n      <td>0</td>\n      <td>1</td>\n      <td>1</td>\n    </tr>\n    <tr>\n      <th>3</th>\n      <td>0</td>\n      <td>45</td>\n      <td>42.30</td>\n      <td>1</td>\n      <td>0</td>\n      <td>0</td>\n      <td>0</td>\n      <td>1</td>\n      <td>0</td>\n      <td>0</td>\n      <td>...</td>\n      <td>0</td>\n      <td>0</td>\n      <td>0</td>\n      <td>1</td>\n      <td>0</td>\n      <td>0</td>\n      <td>0</td>\n      <td>0</td>\n      <td>0</td>\n      <td>0</td>\n    </tr>\n    <tr>\n      <th>4</th>\n      <td>0</td>\n      <td>2</td>\n      <td>70.70</td>\n      <td>0</td>\n      <td>0</td>\n      <td>0</td>\n      <td>1</td>\n      <td>0</td>\n      <td>0</td>\n      <td>1</td>\n      <td>...</td>\n      <td>0</td>\n      <td>0</td>\n      <td>0</td>\n      <td>0</td>\n      <td>0</td>\n      <td>1</td>\n      <td>0</td>\n      <td>1</td>\n      <td>0</td>\n      <td>1</td>\n    </tr>\n  </tbody>\n</table>\n<p>5 rows × 30 columns</p>\n</div>",
            "text/plain": "   SeniorCitizen  tenure  MonthlyCharges  gender_Male  Partner_Yes  \\\n0  0              1      29.85            0            1             \n1  0              34     56.95            1            0             \n2  0              2      53.85            1            0             \n3  0              45     42.30            1            0             \n4  0              2      70.70            0            0             \n\n   Dependents_Yes  PhoneService_Yes  MultipleLines_No phone service  \\\n0  0               0                 1                                \n1  0               1                 0                                \n2  0               1                 0                                \n3  0               0                 1                                \n4  0               1                 0                                \n\n   MultipleLines_Yes  InternetService_Fiber optic    ...      StreamingTV_Yes  \\\n0  0                  0                              ...      0                 \n1  0                  0                              ...      0                 \n2  0                  0                              ...      0                 \n3  0                  0                              ...      0                 \n4  0                  1                              ...      0                 \n\n   StreamingMovies_No internet service  StreamingMovies_Yes  \\\n0  0                                    0                     \n1  0                                    0                     \n2  0                                    0                     \n3  0                                    0                     \n4  0                                    0                     \n\n   Contract_One year  Contract_Two year  PaperlessBilling_Yes  \\\n0  0                  0                  1                      \n1  1                  0                  0                      \n2  0                  0                  1                      \n3  1                  0                  0                      \n4  0                  0                  1                      \n\n   PaymentMethod_Credit card (automatic)  PaymentMethod_Electronic check  \\\n0  0                                      1                                \n1  0                                      0                                \n2  0                                      0                                \n3  0                                      0                                \n4  0                                      1                                \n\n   PaymentMethod_Mailed check  Churn_Yes  \n0  0                           0          \n1  1                           0          \n2  1                           1          \n3  0                           0          \n4  0                           1          \n\n[5 rows x 30 columns]"
          },
          "execution_count": 28,
          "metadata": {},
          "output_type": "execute_result"
        }
      ]
    },
    {
      "metadata": {
        "trusted": false
      },
      "cell_type": "code",
      "source": "\nX = data_dummy.iloc[:, 0:29].values\ny = data_dummy.iloc[:, 29].values   # target datset  it contains only the target  in this case is the column 29",
      "execution_count": 29,
      "outputs": []
    },
    {
      "metadata": {
        "trusted": false
      },
      "cell_type": "code",
      "source": "# split the data to training and testing set\nfrom sklearn.model_selection import train_test_split\nX_train, X_test, y_train, y_test = train_test_split(X, y, test_size = 0.3, random_state = 0)  ",
      "execution_count": 30,
      "outputs": []
    },
    {
      "metadata": {
        "trusted": false
      },
      "cell_type": "code",
      "source": "#  standardization tha data insight \nfrom sklearn.preprocessing import StandardScaler\nsc = StandardScaler()\nX_train = sc.fit_transform(X_train)\nX_test = sc.transform(X_test)",
      "execution_count": 31,
      "outputs": []
    },
    {
      "metadata": {
        "trusted": false
      },
      "cell_type": "code",
      "source": "!pip install xgboost",
      "execution_count": 50,
      "outputs": [
        {
          "name": "stdout",
          "output_type": "stream",
          "text": "Requirement already satisfied: xgboost in /anaconda/envs/azureml_py36/lib/python3.6/site-packages\nRequirement already satisfied: scipy in /anaconda/envs/azureml_py36/lib/python3.6/site-packages (from xgboost)\nRequirement already satisfied: numpy in /anaconda/envs/azureml_py36/lib/python3.6/site-packages (from xgboost)\n\u001b[33mYou are using pip version 9.0.1, however version 19.2.3 is available.\nYou should consider upgrading via the 'pip install --upgrade pip' command.\u001b[0m\n"
        }
      ]
    },
    {
      "metadata": {
        "trusted": false
      },
      "cell_type": "code",
      "source": "#  XBOOST   algorithm - kind of decision tree  with more performance faster to train\nfrom xgboost import XGBClassifier\nxgb_classifier = XGBClassifier()\nxgb_classifier.fit(X_train, y_train)",
      "execution_count": 51,
      "outputs": [
        {
          "data": {
            "text/plain": "XGBClassifier(base_score=0.5, booster='gbtree', colsample_bylevel=1,\n       colsample_bynode=1, colsample_bytree=1, gamma=0, learning_rate=0.1,\n       max_delta_step=0, max_depth=3, min_child_weight=1, missing=None,\n       n_estimators=100, n_jobs=1, nthread=None,\n       objective='binary:logistic', random_state=0, reg_alpha=0,\n       reg_lambda=1, scale_pos_weight=1, seed=None, silent=None,\n       subsample=1, verbosity=1)"
          },
          "execution_count": 51,
          "metadata": {},
          "output_type": "execute_result"
        }
      ]
    },
    {
      "metadata": {
        "trusted": false
      },
      "cell_type": "code",
      "source": "# another decision tree  use different way of classificaton  \nfrom sklearn  import ensemble\nadaboost =ensemble.AdaBoostClassifier()\nadaboost.fit(X_train, y_train)",
      "execution_count": 33,
      "outputs": [
        {
          "data": {
            "text/plain": "AdaBoostClassifier(algorithm='SAMME.R', base_estimator=None,\n          learning_rate=1.0, n_estimators=50, random_state=None)"
          },
          "execution_count": 33,
          "metadata": {},
          "output_type": "execute_result"
        }
      ]
    },
    {
      "metadata": {
        "trusted": false
      },
      "cell_type": "code",
      "source": "# Gradient boosted classifier  algorithm\nfrom sklearn  import ensemble\ngboost =ensemble.GradientBoostingClassifier()\ngboost.fit(X_train, y_train)",
      "execution_count": 34,
      "outputs": [
        {
          "data": {
            "text/plain": "GradientBoostingClassifier(criterion='friedman_mse', init=None,\n              learning_rate=0.1, loss='deviance', max_depth=3,\n              max_features=None, max_leaf_nodes=None,\n              min_impurity_decrease=0.0, min_impurity_split=None,\n              min_samples_leaf=1, min_samples_split=2,\n              min_weight_fraction_leaf=0.0, n_estimators=100,\n              n_iter_no_change=None, presort='auto', random_state=None,\n              subsample=1.0, tol=0.0001, validation_fraction=0.1,\n              verbose=0, warm_start=False)"
          },
          "execution_count": 34,
          "metadata": {},
          "output_type": "execute_result"
        }
      ]
    },
    {
      "metadata": {
        "trusted": false
      },
      "cell_type": "code",
      "source": "# Fit the SVM  algorithm\nfrom sklearn.svm import SVC\nsvc_cl = SVC(kernel = 'rbf', random_state = 0)\nsvc_cl.fit(X_train, y_train)",
      "execution_count": 35,
      "outputs": [
        {
          "data": {
            "text/plain": "SVC(C=1.0, cache_size=200, class_weight=None, coef0=0.0,\n  decision_function_shape='ovr', degree=3, gamma='auto_deprecated',\n  kernel='rbf', max_iter=-1, probability=False, random_state=0,\n  shrinking=True, tol=0.001, verbose=False)"
          },
          "execution_count": 35,
          "metadata": {},
          "output_type": "execute_result"
        }
      ]
    },
    {
      "metadata": {
        "trusted": false
      },
      "cell_type": "code",
      "source": "# SGD algorithmm to train\nfrom sklearn.linear_model import SGDClassifier\nsgd = SGDClassifier()\nsgd.fit(X_train, y_train)",
      "execution_count": 36,
      "outputs": [
        {
          "name": "stderr",
          "output_type": "stream",
          "text": "/anaconda/envs/azureml_py36/lib/python3.6/site-packages/sklearn/linear_model/stochastic_gradient.py:166: FutureWarning: max_iter and tol parameters have been added in SGDClassifier in 0.19. If both are left unset, they default to max_iter=5 and tol=None. If tol is not None, max_iter defaults to max_iter=1000. From 0.21, default max_iter will be 1000, and default tol will be 1e-3.\n  FutureWarning)\n"
        },
        {
          "data": {
            "text/plain": "SGDClassifier(alpha=0.0001, average=False, class_weight=None,\n       early_stopping=False, epsilon=0.1, eta0=0.0, fit_intercept=True,\n       l1_ratio=0.15, learning_rate='optimal', loss='hinge', max_iter=None,\n       n_iter=None, n_iter_no_change=5, n_jobs=None, penalty='l2',\n       power_t=0.5, random_state=None, shuffle=True, tol=None,\n       validation_fraction=0.1, verbose=0, warm_start=False)"
          },
          "execution_count": 36,
          "metadata": {},
          "output_type": "execute_result"
        }
      ]
    },
    {
      "metadata": {
        "trusted": false
      },
      "cell_type": "code",
      "source": "##  Logistic regression\nfrom sklearn.linear_model import LogisticRegression\nlogistic_reg = LogisticRegression(random_state = 0)\nlogistic_reg.fit(X_train, y_train)",
      "execution_count": 37,
      "outputs": [
        {
          "name": "stderr",
          "output_type": "stream",
          "text": "/anaconda/envs/azureml_py36/lib/python3.6/site-packages/sklearn/linear_model/logistic.py:433: FutureWarning: Default solver will be changed to 'lbfgs' in 0.22. Specify a solver to silence this warning.\n  FutureWarning)\n"
        },
        {
          "data": {
            "text/plain": "LogisticRegression(C=1.0, class_weight=None, dual=False, fit_intercept=True,\n          intercept_scaling=1, max_iter=100, multi_class='warn',\n          n_jobs=None, penalty='l2', random_state=0, solver='warn',\n          tol=0.0001, verbose=0, warm_start=False)"
          },
          "execution_count": 37,
          "metadata": {},
          "output_type": "execute_result"
        }
      ]
    },
    {
      "metadata": {
        "trusted": false
      },
      "cell_type": "code",
      "source": "# random forest\nfrom sklearn.ensemble import RandomForestClassifier\nrandom_forest = RandomForestClassifier(n_estimators = 10, criterion = 'entropy', random_state = 0)\nrandom_forest.fit(X_train, y_train)",
      "execution_count": 38,
      "outputs": [
        {
          "data": {
            "text/plain": "RandomForestClassifier(bootstrap=True, class_weight=None, criterion='entropy',\n            max_depth=None, max_features='auto', max_leaf_nodes=None,\n            min_impurity_decrease=0.0, min_impurity_split=None,\n            min_samples_leaf=1, min_samples_split=2,\n            min_weight_fraction_leaf=0.0, n_estimators=10, n_jobs=None,\n            oob_score=False, random_state=0, verbose=0, warm_start=False)"
          },
          "execution_count": 38,
          "metadata": {},
          "output_type": "execute_result"
        }
      ]
    },
    {
      "metadata": {
        "trusted": false
      },
      "cell_type": "code",
      "source": "# decision tree\nfrom sklearn.tree import DecisionTreeClassifier\n\ndecision_tree = DecisionTreeClassifier()\ndecision_tree.fit(X_train, y_train)",
      "execution_count": 39,
      "outputs": [
        {
          "data": {
            "text/plain": "DecisionTreeClassifier(class_weight=None, criterion='gini', max_depth=None,\n            max_features=None, max_leaf_nodes=None,\n            min_impurity_decrease=0.0, min_impurity_split=None,\n            min_samples_leaf=1, min_samples_split=2,\n            min_weight_fraction_leaf=0.0, presort=False, random_state=None,\n            splitter='best')"
          },
          "execution_count": 39,
          "metadata": {},
          "output_type": "execute_result"
        }
      ]
    },
    {
      "metadata": {
        "trusted": false
      },
      "cell_type": "code",
      "source": "# KNN  classification\nfrom sklearn.neighbors import KNeighborsClassifier\nknn = KNeighborsClassifier(n_neighbors = 3)\nknn.fit(X_train, y_train)\n\n# Naiv bayes   mode\nfrom sklearn.naive_bayes import GaussianNB\ngaussian = GaussianNB()\ngaussian.fit(X_train, y_train)",
      "execution_count": 40,
      "outputs": [
        {
          "data": {
            "text/plain": "GaussianNB(priors=None, var_smoothing=1e-09)"
          },
          "execution_count": 40,
          "metadata": {},
          "output_type": "execute_result"
        }
      ]
    },
    {
      "metadata": {
        "trusted": false
      },
      "cell_type": "code",
      "source": "import warnings\nwarnings.filterwarnings(\"ignore\")",
      "execution_count": 46,
      "outputs": []
    },
    {
      "metadata": {
        "trusted": false
      },
      "cell_type": "code",
      "source": "# skylearm model accuracy analyzing and model selecting module\nfrom sklearn import model_selection\nfrom sklearn.model_selection import cross_val_score\nkfold = model_selection.KFold(n_splits=10, random_state=7)\nscoring = 'accuracy'\n# usig cross validataion metod based on kfold algorithm\n# estimator is based on which algorithm is evaluating\n#  first analyze with the  train data\n# after it analyse  with test data  X=X_test y=y_test\nacc_xgb = cross_val_score(estimator = xgb_classifier, X = X_train, y = y_train, cv = kfold,scoring=scoring)\nacc_xgb.mean()\nacc_adb = cross_val_score(estimator = adaboost, X = X_train, y = y_train, cv = kfold, scoring=scoring)\nacc_adb.mean()\n\n\nacc_gbbost = cross_val_score(estimator = gboost, X = X_train, y = y_train, cv = kfold,scoring=scoring)\nacc_gbbost.mean()\n\nacc_dec1 = cross_val_score(estimator = decision_tree, X = X_train, y = y_train, cv = kfold,scoring=scoring)\nacc_dec1.mean()\n\nacc_gaussion1 = cross_val_score(estimator = gaussian, X = X_train, y = y_train, cv = kfold,scoring=scoring)\nacc_gaussion1.mean()\n\nacc_knn1 = cross_val_score(estimator = knn, X = X_train, y = y_train, cv = kfold,scoring=scoring)\nacc_knn1.mean()\n\nacc_random1 = cross_val_score(estimator = random_forest, X = X_train, y = y_train, cv = kfold,scoring=scoring)\nacc_random1.mean()\n\nacc_log_reg1 = cross_val_score(estimator = logistic_reg, X = X_train, y = y_train, cv = kfold,scoring=scoring)\nacc_log_reg1.mean()\n\nacc_sgd1 = cross_val_score(estimator = sgd, X = X_train, y = y_train, cv = kfold,scoring=scoring)\nacc_sgd1.mean()\n\nacc_svc1 = cross_val_score(estimator = svc_cl, X = X_train, y = y_train, cv = kfold,scoring=scoring)\nacc_svc1.mean()",
      "execution_count": 52,
      "outputs": [
        {
          "data": {
            "text/plain": "0.7953346855983774"
          },
          "execution_count": 52,
          "metadata": {},
          "output_type": "execute_result"
        }
      ]
    },
    {
      "metadata": {
        "trusted": false
      },
      "cell_type": "code",
      "source": "##  text just descriptions  oragnyzing the   above values  into dataframe to make user readable.\nmodels_cross = pd.DataFrame({\n    'Model': ['XBOOST','AdaBoost','GradientBoosting','Support Vector Machines','Stochastic Gradient Decent','Logistic Regression', \n              'Random Forest','Decision Tree', 'Guassian Naive Bayes', 'Kneighbours'],\n    'Score': [acc_xgb.mean(), acc_adb.mean(),acc_gbbost.mean(),acc_svc1.mean(),acc_sgd1.mean(), acc_log_reg1.mean(), \n              acc_random1.mean(),acc_dec1.mean(), acc_gaussion1.mean(), acc_knn1.mean()]})\n    \nmodels_cross.sort_values(by='Score', ascending=False)",
      "execution_count": 53,
      "outputs": [
        {
          "data": {
            "text/html": "<div>\n<style scoped>\n    .dataframe tbody tr th:only-of-type {\n        vertical-align: middle;\n    }\n\n    .dataframe tbody tr th {\n        vertical-align: top;\n    }\n\n    .dataframe thead th {\n        text-align: right;\n    }\n</style>\n<table border=\"1\" class=\"dataframe\">\n  <thead>\n    <tr style=\"text-align: right;\">\n      <th></th>\n      <th>Model</th>\n      <th>Score</th>\n    </tr>\n  </thead>\n  <tbody>\n    <tr>\n      <th>0</th>\n      <td>XBOOST</td>\n      <td>0.80</td>\n    </tr>\n    <tr>\n      <th>1</th>\n      <td>AdaBoost</td>\n      <td>0.80</td>\n    </tr>\n    <tr>\n      <th>5</th>\n      <td>Logistic Regression</td>\n      <td>0.80</td>\n    </tr>\n    <tr>\n      <th>2</th>\n      <td>GradientBoosting</td>\n      <td>0.80</td>\n    </tr>\n    <tr>\n      <th>3</th>\n      <td>Support Vector Machines</td>\n      <td>0.80</td>\n    </tr>\n    <tr>\n      <th>6</th>\n      <td>Random Forest</td>\n      <td>0.77</td>\n    </tr>\n    <tr>\n      <th>4</th>\n      <td>Stochastic Gradient Decent</td>\n      <td>0.75</td>\n    </tr>\n    <tr>\n      <th>9</th>\n      <td>Kneighbours</td>\n      <td>0.74</td>\n    </tr>\n    <tr>\n      <th>7</th>\n      <td>Decision Tree</td>\n      <td>0.72</td>\n    </tr>\n    <tr>\n      <th>8</th>\n      <td>Guassian Naive Bayes</td>\n      <td>0.67</td>\n    </tr>\n  </tbody>\n</table>\n</div>",
            "text/plain": "                        Model  Score\n0  XBOOST                     0.80  \n1  AdaBoost                   0.80  \n5  Logistic Regression        0.80  \n2  GradientBoosting           0.80  \n3  Support Vector Machines    0.80  \n6  Random Forest              0.77  \n4  Stochastic Gradient Decent 0.75  \n9  Kneighbours                0.74  \n7  Decision Tree              0.72  \n8  Guassian Naive Bayes       0.67  "
          },
          "execution_count": 53,
          "metadata": {},
          "output_type": "execute_result"
        }
      ]
    },
    {
      "metadata": {
        "trusted": false
      },
      "cell_type": "code",
      "source": "",
      "execution_count": null,
      "outputs": []
    }
  ],
  "metadata": {
    "kernelspec": {
      "name": "python36",
      "display_name": "Python 3.6",
      "language": "python"
    },
    "language_info": {
      "mimetype": "text/x-python",
      "nbconvert_exporter": "python",
      "name": "python",
      "pygments_lexer": "ipython3",
      "version": "3.6.6",
      "file_extension": ".py",
      "codemirror_mode": {
        "version": 3,
        "name": "ipython"
      }
    }
  },
  "nbformat": 4,
  "nbformat_minor": 2
}